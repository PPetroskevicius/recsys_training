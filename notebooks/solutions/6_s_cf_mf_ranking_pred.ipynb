{
 "cells": [
  {
   "cell_type": "markdown",
   "metadata": {},
   "source": [
    "# Unit 6: Model-based Collaborative Filtering for **Ranking** Prediction"
   ]
  },
  {
   "cell_type": "markdown",
   "metadata": {},
   "source": [
    "However, we still do Collaborative Filtering and Matrix Factorization in this unit, we do something fundamentally different: we change from rating prediction to **ranking prediction**.\n",
    "\n",
    "We achieve this by changing the optimization criterion. Instead of minimizing the deviation between true and predicted ratings we push positive and negative user-item combinationa as much as possible apart. We transform explicit user feedback into implicit feedback. Implicit feedback refers to user interaction without the purpose to reflect preference or disregard and is much more common in pactice. Ranking prediction algorithms tackle to learn from implicit feedback data.\n",
    "\n",
    "In addition, ranking-based algorithms yield a much more intuitive prediction result. Our goal is to present to the user a very limited amount of items in the correct ordering. Therefore, ordering is much more important than rating prediction. Ranking-based algorithms like BPR work pair-wise, i.e. for a user and two items they yield the correct order of both items for the user. Generalizing from this, we can impose an ordering on our item corpus and pick the top-$N$ to present to the user."
   ]
  },
  {
   "cell_type": "code",
   "execution_count": 1,
   "metadata": {},
   "outputs": [],
   "source": [
    "from collections import OrderedDict\n",
    "import itertools\n",
    "from typing import Dict, List, Tuple\n",
    "\n",
    "import matplotlib.pyplot as plt\n",
    "import numpy as np\n",
    "import pandas as pd"
   ]
  },
  {
   "cell_type": "code",
   "execution_count": 2,
   "metadata": {},
   "outputs": [],
   "source": [
    "from recsys_training.data import Dataset\n",
    "from recsys_training.evaluation import get_relevant_items"
   ]
  },
  {
   "cell_type": "code",
   "execution_count": 3,
   "metadata": {},
   "outputs": [],
   "source": [
    "ml100k_ratings_filepath = '../../data/raw/ml-100k/u.data'"
   ]
  },
  {
   "cell_type": "markdown",
   "metadata": {},
   "source": [
    "## Load Data"
   ]
  },
  {
   "cell_type": "markdown",
   "metadata": {},
   "source": [
    "Different to previous units, we work with implicit feedback data now. However, MovieLens is an explicit feedback dataset, we can argue that everything above the user mean ratings is positive and everything below is negative. Bayesian Personalized Ranking learns from implicit positive feedback data and randomly samples negative feedback data during training. Thus, we keep all ratings above a threhold of $4.0$ and remove all other ratings."
   ]
  },
  {
   "cell_type": "code",
   "execution_count": 4,
   "metadata": {},
   "outputs": [],
   "source": [
    "data = Dataset(ml100k_ratings_filepath)\n",
    "data.filter(min_rating=4.0)\n",
    "data.rating_split(seed=42)"
   ]
  },
  {
   "cell_type": "markdown",
   "metadata": {},
   "source": [
    "As we want to learn the user/item latent factors from rating data, we first randomly initialize them"
   ]
  },
  {
   "cell_type": "code",
   "execution_count": 30,
   "metadata": {},
   "outputs": [],
   "source": [
    "seed = 42\n",
    "m = data.n_users\n",
    "n = data.n_items\n",
    "d = 10"
   ]
  },
  {
   "cell_type": "code",
   "execution_count": 31,
   "metadata": {},
   "outputs": [],
   "source": [
    "# Latent Factor initialization\n",
    "random_state = np.random.RandomState(seed)\n",
    "user_factors = (random_state.rand(m, d) - 0.5) / d\n",
    "item_factors = (random_state.rand(n, d) - 0.5) / d\n",
    "        \n",
    "ratings = data.train_ratings.sample(frac=1, random_state=seed)"
   ]
  },
  {
   "cell_type": "code",
   "execution_count": 32,
   "metadata": {},
   "outputs": [],
   "source": [
    "# positive implicit feedback items\n",
    "user_pos_items = {}\n",
    "# corpus of all remaining items for every user\n",
    "# Ask me about the \"Non missing at random hypothesis\" ;)\n",
    "user_neg_items = {}"
   ]
  },
  {
   "cell_type": "code",
   "execution_count": 33,
   "metadata": {},
   "outputs": [],
   "source": [
    "grouped = ratings[['user', 'item']].groupby('user')\n",
    "groups = grouped.groups.keys()\n",
    "for user in data.users:\n",
    "    pos_items = []\n",
    "    if user in groups:\n",
    "        pos_items = grouped.get_group(user).item.values\n",
    "    neg_items = np.setdiff1d(data.items, pos_items)\n",
    "    user_pos_items[user] = pos_items\n",
    "    user_neg_items[user] = neg_items"
   ]
  },
  {
   "cell_type": "markdown",
   "metadata": {},
   "source": [
    "## Training"
   ]
  },
  {
   "cell_type": "markdown",
   "metadata": {},
   "source": [
    "Yes, there is some math involved:\n",
    "\n",
    "\\begin{equation*}\n",
    "\\hat{x}_{uij} = \\hat{x}_{ui} - \\hat{x}_{uj} \\\\\n",
    "x_{ui} = \\sum_{f=1}^{d} w_{uf} \\cdot h_{if}, i \\in I_u^+ \\\\\n",
    "x_{uj} = \\sum_{f=1}^{d} w_{uf} \\cdot h_{jf}, j \\in I_u^- \\\\\n",
    "\\end{equation*}\n",
    "\n",
    "\\begin{equation*}\n",
    "\\text{BPR-Opt} := \\sum_{(u,i,j) \\in D_S} \\ln\\sigma(\\hat{x}_{uijj}) - \\lambda_{\\Theta} \\cdot ||\\Theta||^2\n",
    "\\end{equation*}\n",
    "\n",
    "\\begin{equation*}\n",
    "\\frac{\\partial \\text{BPR-Opt}}{\\partial \\Theta} = \\frac{-e^{-\\hat{x}_{uij}}}{1+e^{-\\hat{x}_{uij}}} \\cdot \\frac{\\partial \\hat{x}_{uij}}{\\partial \\Theta} - \\lambda_{\\Theta} \\cdot \\Theta\n",
    "\\end{equation*}\n",
    "\n",
    "\\begin{equation*}\n",
    "\\frac{\\partial x_{uij}}{\\partial \\Theta} =\n",
    "\\begin{cases}\n",
    "(h_{if}-h_{jf}) & \\text{for } \\Theta = w_{uf} \\\\\n",
    "w_{uf} & \\text{for } \\Theta = h_{if} \\\\\n",
    "-w_{uf} & \\text{for } \\Theta = h_{jf}\n",
    "\\end{cases}\n",
    "\\end{equation*}"
   ]
  },
  {
   "cell_type": "markdown",
   "metadata": {},
   "source": [
    "Let's talk about regularization!"
   ]
  },
  {
   "cell_type": "code",
   "execution_count": 34,
   "metadata": {},
   "outputs": [],
   "source": [
    "def sigmoid(x):\n",
    "    return 1/(1+np.exp(-x))"
   ]
  },
  {
   "cell_type": "code",
   "execution_count": 35,
   "metadata": {},
   "outputs": [],
   "source": [
    "def negative_sampling(user: int, user_neg_items: Dict[int, np.array]) -> int:\n",
    "    \"\"\"\n",
    "    Return the item ids for negative samples\n",
    "    \"\"\"\n",
    "    negative_item = np.random.choice(user_neg_items[user])\n",
    "    \n",
    "    return negative_item"
   ]
  },
  {
   "cell_type": "markdown",
   "metadata": {},
   "source": [
    "![](../Parrot.png)\n",
    "\n",
    "**Task:** Adapt the `compute_gradients` method from the unit before to realize stochastic gradient descent (SGD) for Bayesian Personalized Ranking."
   ]
  },
  {
   "cell_type": "code",
   "execution_count": 36,
   "metadata": {},
   "outputs": [],
   "source": [
    "def compute_gradients(user_embed: np.array,\n",
    "                      pos_item_embed: np.array,\n",
    "                      neg_item_embed: np.array,\n",
    "                      l2_decay: Dict[str, float]) -> Tuple[np.array, np.array, np.array]:\n",
    "    \n",
    "    pos_pred = np.sum(user_embed * pos_item_embed)\n",
    "    neg_pred = np.sum(user_embed * neg_item_embed)\n",
    "    pred = pos_pred - neg_pred\n",
    "\n",
    "    generic_grad = (-np.exp(-pred) * sigmoid(pred))\n",
    "\n",
    "    user_grad = generic_grad * (pos_item_embed - neg_item_embed)\n",
    "    pos_item_grad = generic_grad * user_embed\n",
    "    neg_item_grad = generic_grad * (-user_embed)\n",
    "\n",
    "    user_grad += user_embed * l2_decay['user']\n",
    "    pos_item_grad += pos_item_embed * l2_decay['pos']\n",
    "    neg_item_grad += neg_item_embed * l2_decay['neg']\n",
    "\n",
    "    return user_grad, pos_item_grad, neg_item_grad"
   ]
  },
  {
   "cell_type": "code",
   "execution_count": 37,
   "metadata": {},
   "outputs": [],
   "source": [
    "def print_update(epoch: int, samples: np.array) -> float:\n",
    "    # take the 1000 most recent ratings and compute the mean ranking loss\n",
    "    users = samples[:, 0]\n",
    "    pos_items = samples[:, 1]\n",
    "    neg_items = np.array([negative_sampling(user, user_neg_items)\n",
    "                          for user in users])\n",
    "\n",
    "    user_embeds = user_factors[users - 1]\n",
    "    pos_item_embeds = item_factors[pos_items - 1]\n",
    "    neg_item_embeds = item_factors[neg_items - 1]\n",
    "\n",
    "    pos_preds = np.sum(user_embeds * pos_item_embeds, axis=1)\n",
    "    neg_preds = np.sum(user_embeds * neg_item_embeds, axis=1)\n",
    "    preds = pos_preds - neg_preds\n",
    "\n",
    "    loss = -np.log(sigmoid(preds)).mean()\n",
    "    \n",
    "    return loss"
   ]
  },
  {
   "cell_type": "markdown",
   "metadata": {},
   "source": [
    "Instead of minibatch gradient descent we do **stochastic gradient descent** (SGD) here. It just shrinks the batch size down to 1 instance."
   ]
  },
  {
   "cell_type": "code",
   "execution_count": 38,
   "metadata": {},
   "outputs": [],
   "source": [
    "epochs = 30\n",
    "learning_rate = 0.05\n",
    "l2_decay = {'user': 0.002, 'pos': 0.0, 'neg': 0.002}\n",
    "verbose = True"
   ]
  },
  {
   "cell_type": "code",
   "execution_count": 39,
   "metadata": {},
   "outputs": [
    {
     "name": "stdout",
     "output_type": "stream",
     "text": [
      "Epoch 01: Mean Ranking Loss - Train: 0.6927, Mean Ranking Loss - Test: 0.6930\n",
      "Epoch 02: Mean Ranking Loss - Train: 0.6826, Mean Ranking Loss - Test: 0.6845\n",
      "Epoch 03: Mean Ranking Loss - Train: 0.4907, Mean Ranking Loss - Test: 0.5196\n",
      "Epoch 04: Mean Ranking Loss - Train: 0.3354, Mean Ranking Loss - Test: 0.3835\n",
      "Epoch 05: Mean Ranking Loss - Train: 0.3212, Mean Ranking Loss - Test: 0.3557\n",
      "Epoch 06: Mean Ranking Loss - Train: 0.3095, Mean Ranking Loss - Test: 0.3162\n",
      "Epoch 07: Mean Ranking Loss - Train: 0.2967, Mean Ranking Loss - Test: 0.3201\n",
      "Epoch 08: Mean Ranking Loss - Train: 0.2666, Mean Ranking Loss - Test: 0.2891\n",
      "Epoch 09: Mean Ranking Loss - Train: 0.2796, Mean Ranking Loss - Test: 0.2803\n",
      "Epoch 10: Mean Ranking Loss - Train: 0.2536, Mean Ranking Loss - Test: 0.2825\n",
      "Epoch 11: Mean Ranking Loss - Train: 0.2291, Mean Ranking Loss - Test: 0.2704\n",
      "Epoch 12: Mean Ranking Loss - Train: 0.2004, Mean Ranking Loss - Test: 0.2659\n",
      "Epoch 13: Mean Ranking Loss - Train: 0.2220, Mean Ranking Loss - Test: 0.2108\n",
      "Epoch 14: Mean Ranking Loss - Train: 0.1990, Mean Ranking Loss - Test: 0.2361\n",
      "Epoch 15: Mean Ranking Loss - Train: 0.1689, Mean Ranking Loss - Test: 0.2256\n",
      "Epoch 16: Mean Ranking Loss - Train: 0.1786, Mean Ranking Loss - Test: 0.2457\n",
      "Epoch 17: Mean Ranking Loss - Train: 0.1846, Mean Ranking Loss - Test: 0.2191\n",
      "Epoch 18: Mean Ranking Loss - Train: 0.1838, Mean Ranking Loss - Test: 0.2373\n",
      "Epoch 19: Mean Ranking Loss - Train: 0.1669, Mean Ranking Loss - Test: 0.2203\n",
      "Epoch 20: Mean Ranking Loss - Train: 0.1873, Mean Ranking Loss - Test: 0.2348\n",
      "Epoch 21: Mean Ranking Loss - Train: 0.1697, Mean Ranking Loss - Test: 0.2217\n",
      "Epoch 22: Mean Ranking Loss - Train: 0.1636, Mean Ranking Loss - Test: 0.1958\n",
      "Epoch 23: Mean Ranking Loss - Train: 0.1597, Mean Ranking Loss - Test: 0.2306\n",
      "Epoch 24: Mean Ranking Loss - Train: 0.1527, Mean Ranking Loss - Test: 0.2089\n",
      "Epoch 25: Mean Ranking Loss - Train: 0.1543, Mean Ranking Loss - Test: 0.2160\n",
      "Epoch 26: Mean Ranking Loss - Train: 0.1654, Mean Ranking Loss - Test: 0.2323\n",
      "Epoch 27: Mean Ranking Loss - Train: 0.1464, Mean Ranking Loss - Test: 0.2161\n",
      "Epoch 28: Mean Ranking Loss - Train: 0.1589, Mean Ranking Loss - Test: 0.2057\n",
      "Epoch 29: Mean Ranking Loss - Train: 0.1269, Mean Ranking Loss - Test: 0.2265\n",
      "Epoch 30: Mean Ranking Loss - Train: 0.1456, Mean Ranking Loss - Test: 0.2174\n"
     ]
    }
   ],
   "source": [
    "train_ratings_arr = ratings[['user', 'item']].values\n",
    "test_ratings_arr = data.test_ratings[['user', 'item']].values\n",
    "n_ratings = len(train_ratings_arr)\n",
    "train_loss_trace = []\n",
    "test_loss_trace = []\n",
    "\n",
    "for epoch in range(epochs):\n",
    "\n",
    "    for _ in range(len(ratings)):\n",
    "        random_index = np.random.randint(n_ratings)\n",
    "        user, pos_item = tuple(train_ratings_arr[random_index])\n",
    "        neg_item = negative_sampling(user, user_neg_items)\n",
    "\n",
    "        # Deduct 1 as user ids are 1-indexed, but array is 0-indexed\n",
    "        user_embed = user_factors[user - 1]\n",
    "        pos_item_embed = item_factors[pos_item - 1]\n",
    "        neg_item_embed = item_factors[neg_item - 1]\n",
    "\n",
    "        user_grad, pos_item_grad, neg_item_grad = \\\n",
    "            compute_gradients(user_embed,\n",
    "                              pos_item_embed,\n",
    "                              neg_item_embed,\n",
    "                              l2_decay)\n",
    "\n",
    "        user_factors[user - 1] -= learning_rate * user_grad\n",
    "        item_factors[pos_item - 1] -= learning_rate * pos_item_grad\n",
    "        item_factors[neg_item - 1] -= learning_rate * neg_item_grad\n",
    "\n",
    "    if verbose:\n",
    "        train_samples = train_ratings_arr[-1000:]\n",
    "        test_samples = test_ratings_arr[-1000:]\n",
    "        train_loss = print_update(epoch, train_samples)\n",
    "        test_loss = print_update(epoch, test_samples)\n",
    "        train_loss_trace.append(train_loss)\n",
    "        test_loss_trace.append(test_loss)\n",
    "        print(f\"Epoch {epoch+1:02d}: Mean Ranking Loss - Train: {train_loss:.4f}, Mean Ranking Loss - Test: {test_loss:.4f}\")"
   ]
  },
  {
   "cell_type": "code",
   "execution_count": 40,
   "metadata": {},
   "outputs": [
    {
     "data": {
      "image/png": "[encoded data removed]",
      "text/plain": [
       "<Figure size 864x576 with 1 Axes>"
      ]
     },
     "metadata": {
      "needs_background": "light"
     },
     "output_type": "display_data"
    }
   ],
   "source": [
    "plt.figure(figsize=(12,8))\n",
    "plt.plot(range(epochs), train_loss_trace, 'b--', label='Train')\n",
    "plt.plot(range(epochs), test_loss_trace, 'g--', label='Test')\n",
    "plt.grid(True)\n",
    "plt.legend()\n",
    "plt.show()"
   ]
  },
  {
   "cell_type": "markdown",
   "metadata": {},
   "source": [
    "### Using the model for Recommendations"
   ]
  },
  {
   "cell_type": "markdown",
   "metadata": {},
   "source": [
    "We have now created a model to describe users and items in terms of latent vectors. But this time we fitted them to get the rankings correctly. So for obtaining recommendations we simply multiply user-item latent vectors we are interested in and achieve an estimate that can be used to order items for a given user. This time it is not a rating prediction, but still a prediction.\n",
    "\n",
    "For that, we can reuse the `get_prediction` method from previous units.\n",
    "\n",
    "Thus, before writing the `get_recommendations` again we first implement `get_prediction`."
   ]
  },
  {
   "cell_type": "code",
   "execution_count": 41,
   "metadata": {},
   "outputs": [],
   "source": [
    "def get_prediction(user: int, items: np.array = None, remove_known_pos: bool = True) -> Dict[int, Dict[str, float]]:\n",
    "    if items is None:\n",
    "        if remove_known_pos:\n",
    "            # Predict from unobserved items\n",
    "            # We simplified this compared to the unit before\n",
    "            items = user_neg_items[user]\n",
    "        else:\n",
    "            items = np.array(data.items)\n",
    "    if type(items) == np.int64:\n",
    "        items = np.array([items])\n",
    "    \n",
    "    user_embed = user_factors[user - 1].reshape(1, -1)\n",
    "    item_embeds = item_factors[items - 1].reshape(len(items), -1)\n",
    "\n",
    "    # use array-broadcasting\n",
    "    preds = np.sum(user_embed * item_embeds, axis=1)\n",
    "    sorting = np.argsort(preds)[::-1]\n",
    "    preds = {item: {'pred': pred} for item, pred in\n",
    "             zip(items[sorting], preds[sorting])}\n",
    "\n",
    "    return preds"
   ]
  },
  {
   "cell_type": "code",
   "execution_count": 42,
   "metadata": {},
   "outputs": [],
   "source": [
    "item_predictions = get_prediction(1)"
   ]
  },
  {
   "cell_type": "code",
   "execution_count": 43,
   "metadata": {},
   "outputs": [
    {
     "data": {
      "text/plain": [
       "[(7, {'pred': 6.7165212822527804}),\n",
       " (475, {'pred': 6.190053386749307}),\n",
       " (98, {'pred': 5.925275881769105}),\n",
       " (179, {'pred': 5.039790962508783}),\n",
       " (204, {'pred': 5.021097232110073}),\n",
       " (96, {'pred': 4.979480595381881}),\n",
       " (109, {'pred': 4.9214734048628115}),\n",
       " (135, {'pred': 4.828672637052316}),\n",
       " (24, {'pred': 4.8243917910300915}),\n",
       " (183, {'pred': 4.733611429979362}),\n",
       " (8, {'pred': 4.716514643503111}),\n",
       " (180, {'pred': 4.715562448197086}),\n",
       " (514, {'pred': 4.689218154484445}),\n",
       " (258, {'pred': 4.650940982830324}),\n",
       " (208, {'pred': 4.6125552312614895}),\n",
       " (70, {'pred': 4.588018992040444}),\n",
       " (210, {'pred': 4.517376233935581}),\n",
       " (474, {'pred': 4.516616396539871}),\n",
       " (531, {'pred': 4.474738453600442}),\n",
       " (428, {'pred': 4.469018198854879})]"
      ]
     },
     "execution_count": 43,
     "metadata": {},
     "output_type": "execute_result"
    }
   ],
   "source": [
    "list(item_predictions.items())[:20]"
   ]
  },
  {
   "cell_type": "code",
   "execution_count": 44,
   "metadata": {},
   "outputs": [],
   "source": [
    "def get_recommendations(user: int, N: int, remove_known_pos: bool = False) -> List[Tuple[int, Dict[str, float]]]:\n",
    "    predictions = get_prediction(user, remove_known_pos=remove_known_pos)\n",
    "    recommendations = []\n",
    "    for item, pred in predictions.items():\n",
    "        add_item = (item, pred)\n",
    "        recommendations.append(add_item)\n",
    "        if len(recommendations) == N:\n",
    "            break\n",
    "\n",
    "    return recommendations"
   ]
  },
  {
   "cell_type": "code",
   "execution_count": 45,
   "metadata": {},
   "outputs": [],
   "source": [
    "recommendations = get_recommendations(1, 10)"
   ]
  },
  {
   "cell_type": "code",
   "execution_count": 46,
   "metadata": {},
   "outputs": [
    {
     "data": {
      "text/plain": [
       "[(7, {'pred': 6.7165212822527804}),\n",
       " (50, {'pred': 6.5449830328877505}),\n",
       " (56, {'pred': 6.453679549462952}),\n",
       " (238, {'pred': 6.2038273244964355}),\n",
       " (475, {'pred': 6.190053386749307}),\n",
       " (181, {'pred': 6.189498776345734}),\n",
       " (174, {'pred': 6.109045602294025}),\n",
       " (100, {'pred': 5.972914912203246}),\n",
       " (98, {'pred': 5.925275881769105}),\n",
       " (172, {'pred': 5.918597569439271})]"
      ]
     },
     "execution_count": 46,
     "metadata": {},
     "output_type": "execute_result"
    }
   ],
   "source": [
    "recommendations"
   ]
  },
  {
   "cell_type": "markdown",
   "metadata": {},
   "source": [
    "## Evaluation"
   ]
  },
  {
   "cell_type": "code",
   "execution_count": 47,
   "metadata": {},
   "outputs": [],
   "source": [
    "N = 10"
   ]
  },
  {
   "cell_type": "code",
   "execution_count": 48,
   "metadata": {},
   "outputs": [],
   "source": [
    "relevant_items = get_relevant_items(data.test_ratings)"
   ]
  },
  {
   "cell_type": "code",
   "execution_count": 49,
   "metadata": {},
   "outputs": [],
   "source": [
    "users = relevant_items.keys()\n",
    "prec_at_N = dict.fromkeys(data.users)\n",
    "\n",
    "for user in users:\n",
    "    recommendations = get_recommendations(user, N, remove_known_pos=True)\n",
    "    recommendations = [val[0] for val in recommendations]\n",
    "    hits = np.intersect1d(recommendations,\n",
    "                          relevant_items[user])\n",
    "    prec_at_N[user] = len(hits)/N"
   ]
  },
  {
   "cell_type": "code",
   "execution_count": 50,
   "metadata": {},
   "outputs": [
    {
     "data": {
      "text/plain": [
       "[7, 121, 410, 174, 144, 265, 195, 1, 204, 550]"
      ]
     },
     "execution_count": 50,
     "metadata": {},
     "output_type": "execute_result"
    }
   ],
   "source": [
    "recommendations"
   ]
  },
  {
   "cell_type": "code",
   "execution_count": 51,
   "metadata": {},
   "outputs": [
    {
     "data": {
      "text/plain": [
       "0.18762214983713357"
      ]
     },
     "execution_count": 51,
     "metadata": {},
     "output_type": "execute_result"
    }
   ],
   "source": [
    "np.mean([val for val in prec_at_N.values() if val is not None])"
   ]
  }
 ],
 "metadata": {
  "kernelspec": {
   "display_name": "Python 3",
   "language": "python",
   "name": "python3"
  },
  "language_info": {
   "codemirror_mode": {
    "name": "ipython",
    "version": 3
   },
   "file_extension": ".py",
   "mimetype": "text/x-python",
   "name": "python",
   "nbconvert_exporter": "python",
   "pygments_lexer": "ipython3",
   "version": "3.9.4"
  },
  "pycharm": {
   "stem_cell": {
    "cell_type": "raw",
    "metadata": {
     "collapsed": false
    },
    "source": []
   }
  }
 },
 "nbformat": 4,
 "nbformat_minor": 4
}
