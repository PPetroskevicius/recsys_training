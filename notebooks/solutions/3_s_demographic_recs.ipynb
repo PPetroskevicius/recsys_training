{
 "cells": [
  {
   "cell_type": "markdown",
   "metadata": {},
   "source": [
    "# Unit 3: Demographic Recommendations"
   ]
  },
  {
   "cell_type": "markdown",
   "metadata": {},
   "source": [
    "In this section we leave the boring field of unpersonalized content and do our first steps for more personalization. But, before tailoring content to individuals we first tailor content to groups of individuals that by some criteria seem to be similar and therefore - assumed to - consume similar content.\n",
    "\n",
    "We distinguish individuals into groups by using demographic information we have on these individuals. This can be any of\n",
    "* age\n",
    "* gender\n",
    "* citizenship\n",
    "* income\n",
    "* etc."
   ]
  },
  {
   "cell_type": "code",
   "execution_count": 1,
   "metadata": {},
   "outputs": [],
   "source": [
    "import itertools\n",
    "from typing import List\n",
    "\n",
    "import numpy as np\n",
    "import pandas as pd"
   ]
  },
  {
   "cell_type": "code",
   "execution_count": 2,
   "metadata": {},
   "outputs": [],
   "source": [
    "from recsys_training.data import Dataset\n",
    "from recsys_training.evaluation import get_relevant_items"
   ]
  },
  {
   "cell_type": "code",
   "execution_count": 3,
   "metadata": {},
   "outputs": [],
   "source": [
    "ml100k_ratings_filepath = '../../data/raw/ml-100k/u.data'\n",
    "ml100k_user_filepath = '../../data/raw/ml-100k/u.user'"
   ]
  },
  {
   "cell_type": "markdown",
   "metadata": {},
   "source": [
    "## Load Data"
   ]
  },
  {
   "cell_type": "code",
   "execution_count": 4,
   "metadata": {},
   "outputs": [],
   "source": [
    "data = Dataset(ml100k_ratings_filepath)\n",
    "data.rating_split(seed=42)\n",
    "user_ratings = data.get_user_ratings()"
   ]
  },
  {
   "cell_type": "markdown",
   "metadata": {},
   "source": [
    "MovieLens also provides some demographic data on users along with the datasets. We will user _age_ and _gender_ in this tutorial to create different groups."
   ]
  },
  {
   "cell_type": "code",
   "execution_count": 5,
   "metadata": {},
   "outputs": [],
   "source": [
    "users = pd.read_csv(ml100k_user_filepath, sep='|', header=None,\n",
    "                    names=['user', 'age', 'gender', 'occupation', 'zip'])"
   ]
  },
  {
   "cell_type": "markdown",
   "metadata": {},
   "source": [
    "## Explore Data"
   ]
  },
  {
   "cell_type": "code",
   "execution_count": 6,
   "metadata": {},
   "outputs": [
    {
     "data": {
      "text/html": [
       "<div>\n",
       "<style scoped>\n",
       "    .dataframe tbody tr th:only-of-type {\n",
       "        vertical-align: middle;\n",
       "    }\n",
       "\n",
       "    .dataframe tbody tr th {\n",
       "        vertical-align: top;\n",
       "    }\n",
       "\n",
       "    .dataframe thead th {\n",
       "        text-align: right;\n",
       "    }\n",
       "</style>\n",
       "<table border=\"1\" class=\"dataframe\">\n",
       "  <thead>\n",
       "    <tr style=\"text-align: right;\">\n",
       "      <th></th>\n",
       "      <th>user</th>\n",
       "      <th>age</th>\n",
       "      <th>gender</th>\n",
       "      <th>occupation</th>\n",
       "      <th>zip</th>\n",
       "    </tr>\n",
       "  </thead>\n",
       "  <tbody>\n",
       "    <tr>\n",
       "      <th>0</th>\n",
       "      <td>1</td>\n",
       "      <td>24</td>\n",
       "      <td>M</td>\n",
       "      <td>technician</td>\n",
       "      <td>85711</td>\n",
       "    </tr>\n",
       "    <tr>\n",
       "      <th>1</th>\n",
       "      <td>2</td>\n",
       "      <td>53</td>\n",
       "      <td>F</td>\n",
       "      <td>other</td>\n",
       "      <td>94043</td>\n",
       "    </tr>\n",
       "    <tr>\n",
       "      <th>2</th>\n",
       "      <td>3</td>\n",
       "      <td>23</td>\n",
       "      <td>M</td>\n",
       "      <td>writer</td>\n",
       "      <td>32067</td>\n",
       "    </tr>\n",
       "    <tr>\n",
       "      <th>3</th>\n",
       "      <td>4</td>\n",
       "      <td>24</td>\n",
       "      <td>M</td>\n",
       "      <td>technician</td>\n",
       "      <td>43537</td>\n",
       "    </tr>\n",
       "    <tr>\n",
       "      <th>4</th>\n",
       "      <td>5</td>\n",
       "      <td>33</td>\n",
       "      <td>F</td>\n",
       "      <td>other</td>\n",
       "      <td>15213</td>\n",
       "    </tr>\n",
       "  </tbody>\n",
       "</table>\n",
       "</div>"
      ],
      "text/plain": [
       "   user  age gender  occupation    zip\n",
       "0     1   24      M  technician  85711\n",
       "1     2   53      F       other  94043\n",
       "2     3   23      M      writer  32067\n",
       "3     4   24      M  technician  43537\n",
       "4     5   33      F       other  15213"
      ]
     },
     "execution_count": 6,
     "metadata": {},
     "output_type": "execute_result"
    }
   ],
   "source": [
    "users.head()"
   ]
  },
  {
   "cell_type": "code",
   "execution_count": 7,
   "metadata": {},
   "outputs": [
    {
     "data": {
      "text/plain": [
       "<matplotlib.axes._subplots.AxesSubplot at 0x1148a13d0>"
      ]
     },
     "execution_count": 7,
     "metadata": {},
     "output_type": "execute_result"
    },
    {
     "data": {
      "image/png": "[encoded data removed]",
      "text/plain": [
       "<Figure size 432x288 with 1 Axes>"
      ]
     },
     "metadata": {
      "needs_background": "light"
     },
     "output_type": "display_data"
    }
   ],
   "source": [
    "users.age.hist()"
   ]
  },
  {
   "cell_type": "markdown",
   "metadata": {},
   "source": [
    "Let's define 2 x 6 user groups by splitting by gender and age class (see advice [here](https://support.google.com/analytics/answer/2799357?hl=de))"
   ]
  },
  {
   "cell_type": "code",
   "execution_count": 8,
   "metadata": {},
   "outputs": [],
   "source": [
    "gender_groups = ['M', 'F']\n",
    "age_groups = [(18, 24),\n",
    "              (25, 34),\n",
    "              (35, 44),\n",
    "              (45, 54),\n",
    "              (55, 65),\n",
    "              (65, 73)]\n",
    "\n",
    "user_groups = list(itertools.product(gender_groups, age_groups))\n",
    "user_group_indices = range(len(user_groups))\n",
    "user_groups = dict(zip(user_group_indices, user_groups))"
   ]
  },
  {
   "cell_type": "code",
   "execution_count": 9,
   "metadata": {},
   "outputs": [
    {
     "data": {
      "text/plain": [
       "{0: ('M', (18, 24)),\n",
       " 1: ('M', (25, 34)),\n",
       " 2: ('M', (35, 44)),\n",
       " 3: ('M', (45, 54)),\n",
       " 4: ('M', (55, 65)),\n",
       " 5: ('M', (65, 73)),\n",
       " 6: ('F', (18, 24)),\n",
       " 7: ('F', (25, 34)),\n",
       " 8: ('F', (35, 44)),\n",
       " 9: ('F', (45, 54)),\n",
       " 10: ('F', (55, 65)),\n",
       " 11: ('F', (65, 73))}"
      ]
     },
     "execution_count": 9,
     "metadata": {},
     "output_type": "execute_result"
    }
   ],
   "source": [
    "user_groups"
   ]
  },
  {
   "cell_type": "code",
   "execution_count": 10,
   "metadata": {},
   "outputs": [],
   "source": [
    "def assign_group(row, age_groups=age_groups):\n",
    "    for age_group in age_groups:\n",
    "        if row['age'] >= age_group[0] and row['age'] <= age_group[1]:\n",
    "            break\n",
    "    return (row['gender'], age_group)"
   ]
  },
  {
   "cell_type": "code",
   "execution_count": 11,
   "metadata": {},
   "outputs": [],
   "source": [
    "users['group'] = users.apply(lambda row: assign_group(row, age_groups), axis=1)"
   ]
  },
  {
   "cell_type": "code",
   "execution_count": 12,
   "metadata": {},
   "outputs": [],
   "source": [
    "users['group'] = users['group'].map(lambda val: list(user_groups.values()).index(val))"
   ]
  },
  {
   "cell_type": "code",
   "execution_count": 13,
   "metadata": {},
   "outputs": [
    {
     "data": {
      "text/plain": [
       "1     231\n",
       "0     143\n",
       "2     125\n",
       "3      94\n",
       "7      79\n",
       "8      69\n",
       "6      55\n",
       "9      48\n",
       "4      46\n",
       "5      31\n",
       "11     14\n",
       "10      8\n",
       "Name: group, dtype: int64"
      ]
     },
     "execution_count": 13,
     "metadata": {},
     "output_type": "execute_result"
    }
   ],
   "source": [
    "users['group'].value_counts()"
   ]
  },
  {
   "cell_type": "markdown",
   "metadata": {},
   "source": [
    "![](../parrot.png)\n",
    "\n",
    "For each group we use popularity recommendations based on the groups historical viewing popularity.\n",
    "\n",
    "**Task**: Infer the `group_popularities` as a mapping from group index to the item ordering array."
   ]
  },
  {
   "cell_type": "code",
   "execution_count": 14,
   "metadata": {},
   "outputs": [],
   "source": [
    "group_popularities = dict.fromkeys(user_group_indices)"
   ]
  },
  {
   "cell_type": "code",
   "execution_count": 15,
   "metadata": {},
   "outputs": [],
   "source": [
    "for group_idx in user_group_indices:\n",
    "    group_members = users[users['group'] == group_idx]['user'].values\n",
    "    group_ratings = data.train_ratings[data.train_ratings['user'].isin(group_members)]\n",
    "    group_popularities[group_idx] = group_ratings.item.value_counts().index.values"
   ]
  },
  {
   "cell_type": "code",
   "execution_count": 16,
   "metadata": {},
   "outputs": [
    {
     "data": {
      "text/plain": [
       "{0: array([ 288,  181,  258, ..., 1323, 1427, 1547]),\n",
       " 1: array([  50,    1,  181, ..., 1318, 1107, 1451]),\n",
       " 2: array([  50,  181,  127, ..., 1067, 1075, 1427]),\n",
       " 3: array([ 286,  100,  300, ..., 1560, 1608, 1615]),\n",
       " 4: array([ 286,  100,  300,  269,   50,  302,  307,  294,  322,  657,  313,\n",
       "         289,  127,  327,  515,  483,  194,  328,  245,  181,  321,   89,\n",
       "         237,  268,  678,  474,  511,  301,  748,  323,  285,   98,   56,\n",
       "         315,  174,  427,  435,  510,  205,  654,  234,  605,  161,  210,\n",
       "         288,  303,  204,  258,  196,  191,  272,  182,  153,  603,  527,\n",
       "           9,  134,   25,   69,  479,  690,  661,  507,   79,  197,  484,\n",
       "          70,  471,  750,  193,  195,  520,  124,  187,  185,  332,   96,\n",
       "         318,  340,  179,  135,  275,  257,  259,  480,  488,  242,  482,\n",
       "         357,  519,  311,  310,  705,  423,  319,  326,  526,  333,  316,\n",
       "         485,  117,  215,    8,   22,  131,   82,  211,  213,  276,  183,\n",
       "         292,  312,  429,  648,   97,  180,   64,  498,  493,  495,   15,\n",
       "         523,    1,  478,  172,  265,  199,  260,  614,  255,  208,  216,\n",
       "         879,  506,  481,  273,  504,   72,  202,  283,  508,  178,   99,\n",
       "          86,   88,  689,  660,  582,  499,  405,  513,   23,  655,  651,\n",
       "         517,   28,  496,  490,  631,  602,  462,  613,  346,  514,  642,\n",
       "         528,  347,  175,  157,  151,  177,  566,  306,  162,  618,  136,\n",
       "         168,  186,  132,  568,  751,  393,  228,  121,  270,  137,  143,\n",
       "         604,  732,  472,  896,  492,  434,  173,  606,  521,  331,  754,\n",
       "          45,  223,   71,  419,  209,  203,  133,  385,  305,  530,  487,\n",
       "         163,  610,  147,  497,  509,  403,   31,  546,  241, 1050,  607,\n",
       "         641,  709,  378,  356,  739,  344,  274,  887,  238,  230,  226,\n",
       "         965,  170,  152,  118,  116,   14,   12,   10,    4,  659,  218,\n",
       "         190,  447,  693,  148,  684,  615,  212,  298,   65,  192,  304,\n",
       "         612,  650,  451,  449,  188,  708,  443,  264, 1021,  111, 1203,\n",
       "         176,  591,  166,  141,  432,  154,  617,  628,  692,   11,  683,\n",
       "         428,  293,  291,  873,  281,  494,  531,  271,  942,  525,  855,\n",
       "         248,  584,  836,  611,  671,  491,  712,  436,  229,  673,  501,\n",
       "         663,  486,  250,  156,  164,  616,  923,  200,  198, 1035,  222,\n",
       "         239,  609,  945,  165,  646,  144, 1204,  742,  744, 1454,  792,\n",
       "         880,  898,  968,   32,  984,  988, 1020, 1126, 1028, 1048,    7,\n",
       "          44,  630, 1265,  632,  126,  589,  125,   92, 1205,   93,   55,\n",
       "          66,   81,   77,   54,  656,   48,  570,  418,  414,  476,  516,\n",
       "         430,  475,  367,  559,  389,  811,  345,  358,  334,  653,  699,\n",
       "         290,  685,  679,  837,  554,  503,  883,  354,  505,  550,  355,\n",
       "          85,  652,  455, 1269,  573,   13,  362,   76,  433,  640,  107,\n",
       "         638,  431,  636,  425,  647, 1238,  114,  421,  348,  380,  463,\n",
       "         461,   73,  770,  597, 1456,  675,  778, 1463,  665,  448,  687,\n",
       "         384,   30, 1451,  688,  842,  682,   29, 1411,  676,   39,   47,\n",
       "         703,  382,   59,  465,  404,  402,   60,  417,  902,    6, 1044,\n",
       "         608,  221,  343,  629,  220,  233,  410,  633,  909,  871,  966,\n",
       "         581,  588,  845,  529,  578,  972,  541,  329,  990,  284,  863,\n",
       "         416,  995,  359,  549, 1101,  140,  338,  142,  401,  895,  524,\n",
       "         150,  299,  297,  930,  171, 1105,  160,  387,  805,  309, 1065,\n",
       "         381, 1051,  420, 1025,  184,  538,  818,  796,  772, 1024,  806,\n",
       "         878, 1022, 1016,  864,  866,  964,  872,  874,  962,  956,  948,\n",
       "         882,  934,  928,  924,  904,  768,  266,  752,  232,  458,  308,\n",
       "         540,  214,  558,  596,  560,  586,  466,  468,  622,  244,  246,\n",
       "         282,  280,  580,  252,  576,  262,  470,  324,  454,  392,   42,\n",
       "         740,  736,  724,  702,  694, 1074,   16,  502,   38,  674,  624,\n",
       "         664,  662,   58,   62,  106,  634,  518,  130,  522,  512,    2,\n",
       "         645,  287,  989,  835,  295,  317,  325, 1558, 1011,  339, 1039,\n",
       "         351, 1045, 1063, 1073, 1079,  813,  365,  371, 1107,  379, 1121,\n",
       "         399,  411,  441, 1135,  459,  467,  469,  841,  279,  477,  277,\n",
       "         169,  145,  139,  129,  119,  903,  101,  881,  207,  877,  219,\n",
       "         225,  227,  231,  937,  875,   51,  939,  649,   49,   33,   19,\n",
       "         243,  847,  261,  963,  843,  473,  781, 1176,  715,  575,  579,\n",
       "        1184,  489,  583, 1313, 1397, 1399, 1421, 1160, 1154,  595,  707,\n",
       "         571,  601,  619,  621, 1134, 1132, 1124,  697,  627, 1120,  635,\n",
       "         639, 1116, 1285,  155,  543, 1194, 1243,  547, 1198, 1197,  745,\n",
       "         755,  533,  735,  749,  553, 1192, 1263,  785,  795,  889,  753,\n",
       "         825,  779,  386,  869,  763,  885,  388,  669,  396,  713,  376,\n",
       "         867,  727,  829,  350,  831,  823,  731,  741,  821,  729,  360,\n",
       "         747,  815,  342,  721,  849,  853,  865,  827,  809,  330, 1098,\n",
       "         893,  897,   68, 1283, 1279,   74,   78,   80, 1215, 1211,   90,\n",
       "        1201,   94, 1199, 1195,  102, 1193, 1185, 1169, 1149,  122, 1147,\n",
       "        1139, 1293, 1299, 1305, 1457, 1553, 1527, 1521, 1515, 1511, 1461,\n",
       "        1459,   18,   20,   24, 1311,   26, 1455, 1453, 1449, 1445,   40,\n",
       "        1381,   52, 1369, 1137, 1133, 1129,  943,  977,  971,  967,  961,\n",
       "         959,  955,  951,  224,  949,  941,  985,  236,  240,  931,  929,\n",
       "         927,  925,  921,  905,  899,  206,  991,  138, 1089, 1127, 1125,\n",
       "        1123, 1115, 1113, 1109,  158, 1097, 1093, 1075, 1003, 1047, 1041,\n",
       "        1037, 1023, 1019, 1015, 1009, 1007, 1005,  947,  551,  408,  850,\n",
       "         824,  826,  828,  834, 1302, 1298,  844,  848, 1294,  892, 1280,\n",
       "        1268, 1266,  876, 1258, 1252, 1244,  888,  822, 1316,  808, 1330,\n",
       "        1462, 1460,  746, 1452, 1450, 1448, 1446,  762, 1420, 1404, 1388,\n",
       "        1380,  786, 1368,  794, 1342,  802,  890, 1242, 1540, 1018,  980,\n",
       "         986, 1152, 1006, 1010, 1012, 1014, 1140, 1136, 1226, 1030, 1032,\n",
       "        1034, 1046, 1118, 1062, 1100, 1078,  978,  974, 1166,  970,  900,\n",
       "        1222, 1202,  906,  910, 1200, 1196,  936,  938,  944, 1186,  950,\n",
       "         954,  958, 1172, 1170, 1168, 1512,  730,  643,  544,  500,  457,\n",
       "         445,  415,  407,  391,  373,  542,  353,  590,  548,  552,  349,\n",
       "         341,  562,  572,  574,  263,  537,  545, 1086,  555,  412,  625,\n",
       "         623,  599,  440,  444,  450,  452,  587,  585,  460,  464,  569,\n",
       "         567,  565,  563,  557,  249,  592, 1560, 1573,  668,  670,  672,\n",
       "          27,  680,   21,  686,   17,    5,  594,    3,  696,  700, 1652,\n",
       "         704, 1598, 1592,  720,  666,   53,   57,   61,  235,  598,  600,\n",
       "         217,  201,  189,  620,  167,  149,  109,  105,  644,   95,   91,\n",
       "          87,   83,   67, 1613]),\n",
       " 5: array([  50,  300,  258,  181,    7,  288,  294,  313,    1,  151,  121,\n",
       "         748,  117,  100,  125,  222,  302,  259,  257,  301,  455,  268,\n",
       "         269,  289,  304,  147,  286,  174,  405,  127,  346,  307,  471,\n",
       "         173,  237,  176,  333,  321,  183,  988,  315,   15,   56,  347,\n",
       "         252,  322,  327,  305,  423,   28,  926,  825,  276,   24,   82,\n",
       "         273,  282,    8,  180,  393,  182,  283,  318, 1047, 1012,  275,\n",
       "         271,  546,  597,  340,  678,  690,   79,  242,  245,  763,  293,\n",
       "         435,  331,  457,  298,  194,  250,  657,  195,  197,  472, 1016,\n",
       "         243,  281,  235,  199,  685,  202,  682, 1028,  240,  299,  683,\n",
       "         833,  105,  324, 1296,  538,   64,   98,  185,  109,  332,  118,\n",
       "         122,  123,  358,  326,   70,  148,   42,  168,   25,    3,  475,\n",
       "         742,  385,   17,   22,  751,   69,  477,  410,  161,  760,  357,\n",
       "         292,  713,  369,  412,  367,  418,  348,  411,  688,  780,  310,\n",
       "         319,  845,  841,  864,  866,  831,  687,  873,  323,  306,  427,\n",
       "         877,  325,  329,  432,  303,  815,  334,  338,  692,  902,  225,\n",
       "         684, 1093,   62,  651, 1127,   11,  578,  144,  284,  513,  514,\n",
       "          29,   33,  524,  528,   39,   96,   95,   94,   91,  596,   86,\n",
       "          53,   55,   68,  584,  588,  652,  177,  184,  218,  919,  272,\n",
       "         270,  264,  263,  443,  261,  260,  255,  246,    5,  231,   10,\n",
       "         473, 1013,  550,  205,  216, 1022,  462,  187,  207,  200,  201,\n",
       "         204,  561,  568,  554,  404,  409,  567,  406,  508,  419,  541,\n",
       "         451,  456,  401,  476,  479,  483,  495,  501,  507,  515,  520,\n",
       "         523,  529,  420,  539,  403,  280,  398,  143,  116,  120,  124,\n",
       "         135,  137,  140,  156,  179,  158,  163,  164,  165,  170,  172,\n",
       "         111,  108,   99,   93,   88,   87,   80,   72,   67,   65,   63,\n",
       "          61,   41,   27,   23,   21,   14,  178,  186,  391,  354,  336,\n",
       "         339,  342,  343,  345,  350,  356,  191,  359,  361,  363,  370,\n",
       "         384,  386,  330,  316,  311,  295,  291,  285,  576,  278,  262,\n",
       "         249,  234,  233,  226,  211,  210,  208,  198,  575,  505,  577,\n",
       "         754,  826,  823,  820,  810, 1121,  795,  790,  779,  770,  769,\n",
       "        1157,  756,  750,  829,  744, 1185, 1215, 1217, 1234,  721,  717,\n",
       "         705,  693,  680,  676,  665,  827,  849,  659,  895, 1001,  991,\n",
       "         990,  975,  948, 1025,  940, 1035,  932, 1036, 1038,  921,  894,\n",
       "         871,  887,  886,  885,  882,  881, 1059,  879,  878,  876, 1073,\n",
       "         874,  872,  661, 1009, 1395,  582,  615,  595,  625,  591,  585,\n",
       "         619, 1558, 1501, 1512, 1518,   20, 1058, 1496, 1057,   19,   18,\n",
       "        1053, 1524, 1535,  188, 1062, 1316, 1488,  189,  169, 1129,  171,\n",
       "        1449, 1119, 1118, 1117,   38, 1462, 1101,   31, 1468, 1096, 1472,\n",
       "        1095, 1094, 1089, 1478,  190,  167,  213, 1664,  215, 1018,  217,\n",
       "           4, 1678, 1017,  219,  221,    2, 1014,  223,  224, 1011, 1010,\n",
       "         227,  228,  214, 1019, 1052, 1023,  192, 1049, 1046,  196, 1556,\n",
       "        1044, 1039,   12, 1607, 1034, 1033,    9, 1030, 1026, 1620, 1623,\n",
       "         209, 1132,  166, 1314, 1258, 1270, 1267, 1393, 1266, 1265,   97,\n",
       "        1394, 1260, 1244, 1446,  102,   60, 1243,  106,   59, 1237,   58,\n",
       "         110,   92, 1276,   90, 1392,   71, 1313,   73,   77, 1319, 1298,\n",
       "        1295, 1323,   81, 1294,   83, 1291, 1330, 1287, 1284, 1344,   89,\n",
       "        1224, 1222, 1219, 1431,  145,   49, 1155,   47, 1152,   45,  153,\n",
       "         154, 1151,   44,  157, 1149, 1434, 1141, 1139, 1137, 1134, 1158,\n",
       "        1160,   57,  142, 1210, 1197, 1193, 1188, 1401,   54,  126, 1184,\n",
       "         128,  230,  130, 1415,  134, 1181,   52, 1165, 1163,  129,  266,\n",
       "         232, 1008,  663,  458,  459,  461,  470,  660,  655,  654,  650,\n",
       "         648,  478,  641,  480,  481,  640,  484,  486,  491,  492,  672,\n",
       "         452,  448,  417,  730,  728,  724,  722,  408,  720,  719,  413,\n",
       "         710,  441,  707,  697,  425,  426,  430,  689,  686,  436,  639,\n",
       "         496,  498,  557,  542,  543,  544,  587,  549,  551,  583,  556,\n",
       "         559,  603,  562,  563,  564,  565,  566,  580,  579,  571,  540,\n",
       "         531,  500,  510,  638,  502,  504, 1679,  506,  637,  634,  509,\n",
       "         511,  611,  632,  628,  519,  624,  522,  623,  525,  527,  402,\n",
       "         731,  734,  906,  931,  930,  924,  923,  917,  916,  909,  908,\n",
       "         903,  937,  901,  896,  893,  884,  883,  880,  875,  308,  936,\n",
       "         939,  855,  989, 1007, 1006, 1002,  238,  239,  241,  995,  992,\n",
       "         986,  573,  985,  971,  970,  969,  956,  949,  946,  944,  863,\n",
       "         853,  395,  752,  762,  761,  360,  362,  755,  364,  366,  368,\n",
       "         379,  355,  380,  381,  749,  746,  390,  743,  392,  735,  768,\n",
       "         352,  844,  801,  824,  328,  819,  818,  809,  808,  802,  335,\n",
       "         337,  771,  800,  794,  793,  791,  344,  783,  781,  349, 1680]),\n",
       " 6: array([ 288,  294,  121, ..., 1445, 1437, 1557]),\n",
       " 7: array([ 294,   50,  288, ..., 1281, 1297, 1473]),\n",
       " 8: array([ 286,   50,  300, ..., 1261, 1281, 1413]),\n",
       " 9: array([ 286,   50,  258,  127,  100,  300,  237,    1,    9,  269,  321,\n",
       "         197,  328,  181,   14,   25,  302,  690,  204,  172,  435,  191,\n",
       "         275,  268,  319,  194,  285,  318,  257,  427,  174,  210,  333,\n",
       "         124,  511,  301,   98,  211,  135,  121,  306,  423,  255,  310,\n",
       "         111,  137,  173,  153,  591,  294,  603,  313,   45,  508,  514,\n",
       "         315,  307,  357,    7,  117,  471,  483,  272,  515,  288,  276,\n",
       "          15,  216,  498,  476,  480,  282,  382,  125,  655,  303,  866,\n",
       "         405,   56,  326,  322,  479,   86,  678,  187,  529,   87,  323,\n",
       "         133,  347,   97,  289,  340,  304,  245,  284,  735,  215,   19,\n",
       "         485,  531,  213,  199,   79,  523,  482,   69,  202,  582,  484,\n",
       "         496,  132,  170,   64,  528,   70,  880,  259,  311,  182,  274,\n",
       "         292,  707,  402,  604,  151,  509,  316,  193,  654,  527,  116,\n",
       "         684,  248,   58,  185,  748,  744,  222,  504,  297,  740,  864,\n",
       "         221,  651,  475,  223,   13,  659,  657,  148,  166,  131,  628,\n",
       "         143,  147, 1009,  220,  462,  327, 1028,  134,    8,  212,  118,\n",
       "         750,  662,   89,   66,  271,  283,  887,  845,  238,  281,  356,\n",
       "         749,  451,  280,  246,  432,  242,  234,  988,  499,  393,   30,\n",
       "         235,  692,  305,  385,  273,   12,   10,   28,  525,  265,  209,\n",
       "          22,  324,  225,  239,   20,  312,  243,  950,  962,  481,  493,\n",
       "          82,  487,  429,  702,  902,   42,   88,  956,  287,  778,  183,\n",
       "         252,  699,  566,  176,   83,  278,  178,  126,  180,  270,  186,\n",
       "         428,  823,  250,  152,  847,   47,   23,  879,  526,  520,  228,\n",
       "         190,  458,  198,  474,  478,  584,  751,  631,  963,  642,  175,\n",
       "         638,  660,  129,  640,  298,  685,  165,  530, 1022, 1016, 1014,\n",
       "         195,  291,   21, 1194,  295,   11,  161,  658,    5,  466,  179,\n",
       "         676,  494,  309,  794,  279,  203,  277,  155,  107,   99,  558,\n",
       "         550,  546, 1278,  606,  610,  632,  207,  936,  930,  924, 1296,\n",
       "         205,  732,   71,   65,  896,  418,   59,  736,  708,  163,  331,\n",
       "        1149,  507,  739,  729,  717,  709,  705,  296,  693,  144,  689,\n",
       "         663,  661,  645,  136,  629,  615, 1197,  308,  114,  553,  535,\n",
       "         521, 1121,  156,  160,  889,  208,  935,  993,  200,  923,  196,\n",
       "        1017,  226,  236, 1041,  262,  188,  863,  855, 1063,  168,  815,\n",
       "        1101,  813,  162,  517,  949,  332,   54,   26,  463,  354,  461,\n",
       "          32,  477,  447,  381,  443,  425,   38,  497,  538,   44,  874,\n",
       "         742, 1069,  568,  886,  544, 1605,  892,  872,  164, 1281, 1039,\n",
       "        1047,  762,  792,  991,  486,    4,  325,  492,  764,  995,  500,\n",
       "        1475,  502,  806,  756,   16,  516,  518,  844,   18,  154, 1129,\n",
       "         904,  942,  955,  130,  122, 1044, 1195, 1040,  682, 1211, 1221,\n",
       "         722,  954,  106,   96,  694,  696,   92,   60, 1100,  648,  906,\n",
       "         938, 1176,  984, 1170,  912, 1166,  614,  630,  916,  926,  928,\n",
       "          48,  934, 1136,  636, 1126,   52, 1147,  317,  488,  945,   81,\n",
       "         392,  609,  241,  611,  249,  619,  633,  251,  639,  372,  647,\n",
       "         433,  649,  410,  412,  261,  419,   95,   93,  455,  214,  459,\n",
       "         473,  505,  491,  519,  489,  537,  539,  547,  549,  581,  378,\n",
       "         469,  171,  169,  167,  595,  597,  607,  229,  727,  411,  346,\n",
       "         430,  293,   39,  240,  875,  230,  224,  358,  343,  299,  919,\n",
       "         339,  921,    3,  927,  362,  454,  218,  933,  472,  753,  501,\n",
       "          57,   55,   77,  387,  403,  371,  416,  260,   61,   73,   51,\n",
       "         344,  330,  770,  766,  336,  720,  716,  320,  746,  342,  380,\n",
       "         730,  338,  726,    6,  728,   24,   46,  724,   36,  670,  714,\n",
       "          68,  290,  150,  596,  594,  580,  576,  572,  264,  256,  536,\n",
       "         534,  532,  244,  522,  192,  512,  510,  506,  452,  490,  464,\n",
       "         612,  414,  620,  672,   76,  704,  700,  314,  112,  384,  686,\n",
       "         120,  674,  664,  146,  128,  396,  656,  652,  650,  644,  408,\n",
       "         140,  634, 1651, 1642,  772,  903,  929,  925,  915,  913,  911,\n",
       "         909,  899,  937,  895,  873,  871,  869,  865,  831,  931,  939,\n",
       "         825, 1025, 1065, 1061, 1053, 1051, 1033, 1029, 1011,  953, 1007,\n",
       "        1005,  989,  979,  975,  961,  827,  819,  782,  559,  673,  653,\n",
       "         605,  593,  575,  561,  543,  701,  533,  513,  503,  495,  467,\n",
       "         457,  695,  713,  805,  755,  789,  785,  781,  775,  773,  763,\n",
       "         747,  715,  745,  741,  733,  731,  723,  721, 1067, 1071, 1079,\n",
       "        1379, 1479, 1473, 1465, 1421, 1407, 1403, 1377, 1501, 1375, 1351,\n",
       "        1335, 1331, 1319, 1317, 1499, 1535, 1085, 1635, 1647, 1645, 1643,\n",
       "        1641, 1639, 1637, 1633, 1549, 1631, 1629, 1623, 1607, 1585, 1553,\n",
       "        1311, 1289, 1273, 1113, 1141, 1137, 1131, 1119, 1117, 1115, 1111,\n",
       "        1269, 1109, 1107, 1103, 1099, 1097, 1093, 1143, 1153, 1155, 1161,\n",
       "        1163, 1169, 1171, 1173, 1193, 1199, 1203, 1223, 1233, 1255, 1257,\n",
       "        1265, 1267,  449,  431,  421, 1110, 1132, 1128, 1124, 1118, 1114,\n",
       "        1112, 1098, 1142, 1092, 1090, 1086, 1084, 1074, 1068, 1134, 1144,\n",
       "        1248, 1198, 1238, 1232, 1226, 1216, 1208, 1204, 1196, 1148, 1192,\n",
       "        1186, 1174, 1164, 1160, 1158, 1062, 1060, 1050,  876,  918,  910,\n",
       "         900,  898,  882,  878,  870, 1046,  848,  840,  836,  820,  800,\n",
       "         796,  920,  944,  952,  958,  960,  966,  972,  974,  980, 1008,\n",
       "        1010, 1012, 1020, 1024, 1036, 1038, 1042, 1244, 1252,  409,   53,\n",
       "         141,  123,  113,  109,   67,   63,   49,  157,   43, 1650, 1648,\n",
       "        1646, 1649, 1640,  149,  159, 1256,  363,  407,  391,  389,  375,\n",
       "         367,  365,  359,  177,  345,  337,  253,  233,  219,  189, 1638,\n",
       "        1632, 1630, 1356, 1418, 1406, 1400, 1396, 1380, 1368, 1344, 1628,\n",
       "        1322, 1316, 1288, 1284, 1266, 1262, 1436, 1448, 1454, 1462, 1474,\n",
       "        1490, 1506, 1514, 1516, 1532, 1538, 1554, 1560, 1578, 1600, 1602,\n",
       "        1606,    2]),\n",
       " 10: array([ 286,  313,  269,  744,    9,  275,  124,   14,  283,   15,  285,\n",
       "         100,  127,  116,  300,  276,  137,  237,  676,  508, 1120,  191,\n",
       "         792,   86,  331,  936,   88,  333,  287,  866,  288,  304,  847,\n",
       "         293,  321,  319,  382,  381,  301,  302,  732,  328,  251,  216,\n",
       "         242,  487,   26,  248, 1068,  476,   45,  211,  750,  243,  536,\n",
       "           4,  712,    8,  956,  162,  172,  735,  221,  692,  154,  168,\n",
       "         167,  730,  678,  155, 1141,  190,  220,  160,  705, 1017,  173,\n",
       "         715,  707,  708,  702,  197,  153,  710, 1211,  199, 1479,  204,\n",
       "         210,  718,  186,  185,  696,  182, 1204,  208,  194,  174,  511,\n",
       "         648,  663,   52,   79,  845, 1101, 1099,   70,  580,  151,   65,\n",
       "          64,  638,   58,   57,   56,  118,   48,   83,  922, 1061,   25,\n",
       "          20,   19,  529,  526,  525,   12,   10,    6,  517,  514,    1,\n",
       "         483, 1109,  662, 1311,  660, 1171, 1168,  655,  654,  140, 1163,\n",
       "          85,  135,  134,  200,  641,  640,  126,  632, 1111,  631,  630,\n",
       "         117,  111,  110,  619, 1642,  615,  614,   97,   94,   93,  238,\n",
       "        1113,  224,  255,  739,  371,  443,  954,  953,  952,  950,  949,\n",
       "         428,  427, 1197,  425,  934,  420,  419,  498,  924,  923,  736,\n",
       "         921, 1545,  303,  799,  393,  903,  902,  899,  603,  895, 1401,\n",
       "         378,  133,  618,  451,  937, 1021, 1530,  505, 1016,  307,  496,\n",
       "        1007,  531, 1008,  492,  490,  506,  488,  485,  106,  995,  482,\n",
       "         196,  480,  479,  477,  473,  387,  467,  462,  595,  459,  458,\n",
       "          13,  882,  740,  881,  811,  297,  486,  294,  292,  291, 1313,\n",
       "        1041,  606,  279,  274,  273,  272,  787,  268,  778,  716,  258,\n",
       "         256, 1022,  766,  253,  245, 1142,  166,  235, 1257, 1255,  742,\n",
       "         813,  815,  305,  647,  880,  879,  703,  876,  362,  873, 1107,\n",
       "         284,  865,  864,  863,  347,  346,  344,  306,  340,  339,  289,\n",
       "         327,  295,  323,  322,  318,  317,  315,  310,  309,  819, 1024]),\n",
       " 11: array([ 288,  294,  313,  125,  289,  300,  877,  111,    9,  304,  118,\n",
       "         682,  181,  748,  750,  202,  257,  258,  121,  259,   15,  275,\n",
       "         690,  332,  323,  255,   90,  597,  692,  596,  421,    7,  117,\n",
       "         245,  243,  237,  326,  333,  471,  222,  328,  477,  751,  568,\n",
       "         216,  301,  781,  538,  307,  151,   25,    1,  315,  928,  283,\n",
       "         347,  274,  143,  908,  310,  271,  895,  172,   56,  405,  628,\n",
       "         890,  763,  183,  305,  678,  625, 1197,  174, 1313,  159,  609,\n",
       "         176,  187,  200, 1176,   96,  352,  204,  501,  286,  285,  282,\n",
       "         378,  346,  272,  385,  269,  262,  404,  342,  406,  335,  410,\n",
       "         411,  416,  418,  420,  423,  254,  427,  252,  234,  287,  476,\n",
       "         220,  218,  470,  369,  673,  109, 1060,  762, 1063,   70,  100,\n",
       "         924,  785,   99,   98,   49,   97,  173,  901, 1620,  900,   50,\n",
       "          91,   88,  893,  892,   87,   82,   69,  846,   38,  948,  929,\n",
       "         132, 1051,  699, 1041,   22, 1047,  720,  127,  732,   24,   71,\n",
       "          66,  755,   28, 1035,  263,  303,    8,   55, 1084, 1028, 1066,\n",
       "          62,    2,   64, 1089,  308, 1025,  309, 1280, 1283,   54,  265,\n",
       "          52,   44,  280,  278,   26,   47,  273,  299,  298, 1062, 1061,\n",
       "        1059,  292,   33,  302, 1039,   31, 1175,   72,  128,  193,  192,\n",
       "         191,  190,  186,  185,  115,  182,  122,  123,  124,  131,  196,\n",
       "         133,  136,  164, 1163, 1185,  142,  155,  144,  154,  153,  147,\n",
       "         195, 1221,   73,   95,   77,   79,  249,   84,  148,  241,  239,\n",
       "         238,  235,  233,   93,  228, 1225,  225, 1120,  161,  215,  214,\n",
       "         211,  210, 1233,  207, 1127, 1032,  242, 1022,  311,  314,  747,\n",
       "         749,  756,  760,  768,  770,  776,  794, 1602,  796,  197, 1071,\n",
       "         815,  819,  826,  828,  832,   65,  839,  746,  743,  742,  710,\n",
       "         685,  688,  691,  693,  694,  697,  705,  709,  712,  739,  713,\n",
       "         715,  716,  718,  724,  731,  735,  736, 1074,  844,  845,  975,\n",
       "         946,  949,  904,  955,  959,  962,  969,  472,  974,  942,  988,\n",
       "         989,  990,  993, 1012, 1013,   27, 1015,  944,  938,  865,  887,\n",
       "          11,  871,  872,  873,  876,  878,  880,  882,  891,  934,  894,\n",
       "         896,  898,  409, 1430,  925,  926,  931,  684,  680,  679,  403,\n",
       "        1434, 1395,  359,  382, 1413,  392,  393,  402, 1431,  365,  408,\n",
       "        1433,  412,  419,  424,  431,  432,  443,  367,  361, 1473,  337,\n",
       "         316,  318,  319,  321,  322,  327,  330,  336,  339,  360,  340,\n",
       "         343,  344,  349,  354,  356,  358, 1383, 1468,  451,  676,  566,\n",
       "         546,  548,  549,  550,  553,  559,  562, 1152,  576,  535,  578,\n",
       "         582,  588, 1278,  629,  633,  660,  663,  539,  526,  455,  483,\n",
       "         458,  462,  465, 1033,  468, 1496,  473,  475,  487, 1432,  491,\n",
       "         266, 1095, 1239,  514, 1540,  517,  521, 1024])}"
      ]
     },
     "execution_count": 16,
     "metadata": {},
     "output_type": "execute_result"
    }
   ],
   "source": [
    "group_popularities"
   ]
  },
  {
   "cell_type": "markdown",
   "metadata": {},
   "source": [
    "![](../parrot.png)\n",
    "\n",
    "**Task:** Adapt `get_recommendations` from the previous notebook and compute the $MAP@10$ for demographic recommendations."
   ]
  },
  {
   "cell_type": "code",
   "execution_count": 17,
   "metadata": {},
   "outputs": [],
   "source": [
    "user_group_map = dict(zip(users['user'].values,users['group'].values))"
   ]
  },
  {
   "cell_type": "code",
   "execution_count": 18,
   "metadata": {},
   "outputs": [],
   "source": [
    "def get_recommendations(user: int,\n",
    "                        user_ratings: dict,\n",
    "                        user_group_map: dict,\n",
    "                        group_popularities: dict,\n",
    "                        N: int) -> List[int]:\n",
    "    known_positives = list(user_ratings[user].keys())\n",
    "    user_group_idx = user_group_map[user]\n",
    "    recommendations = np.setdiff1d(group_popularities[user_group_idx],\n",
    "                                   known_positives)[:N]\n",
    "    \n",
    "    return recommendations"
   ]
  },
  {
   "cell_type": "markdown",
   "metadata": {},
   "source": [
    "## Evaluation Evaluating the Relevance of Recommendations"
   ]
  },
  {
   "cell_type": "code",
   "execution_count": 19,
   "metadata": {},
   "outputs": [],
   "source": [
    "relevant_items = get_relevant_items(data.test_ratings)"
   ]
  },
  {
   "cell_type": "markdown",
   "metadata": {},
   "source": [
    "Computing $MAP@10$"
   ]
  },
  {
   "cell_type": "code",
   "execution_count": 20,
   "metadata": {},
   "outputs": [],
   "source": [
    "N = 10"
   ]
  },
  {
   "cell_type": "code",
   "execution_count": 21,
   "metadata": {},
   "outputs": [],
   "source": [
    "users = relevant_items.keys()\n",
    "prec_at_N = dict.fromkeys(users)\n",
    "\n",
    "for user in users:\n",
    "    recommendations = get_recommendations(user,\n",
    "                                          user_ratings,\n",
    "                                          user_group_map,\n",
    "                                          group_popularities,\n",
    "                                          N=N)\n",
    "    hits = np.intersect1d(recommendations,\n",
    "                          relevant_items[user])\n",
    "    prec_at_N[user] = len(hits)/N"
   ]
  },
  {
   "cell_type": "code",
   "execution_count": 22,
   "metadata": {},
   "outputs": [
    {
     "data": {
      "text/plain": [
       "0.06404255319148937"
      ]
     },
     "execution_count": 22,
     "metadata": {},
     "output_type": "execute_result"
    }
   ],
   "source": [
    "np.mean(list(prec_at_N.values()))"
   ]
  },
  {
   "cell_type": "markdown",
   "metadata": {},
   "source": [
    "What is the $MAP@10$ for ea. specific group?"
   ]
  },
  {
   "cell_type": "code",
   "execution_count": 23,
   "metadata": {},
   "outputs": [],
   "source": [
    "group_maps = dict.fromkeys(user_group_indices, list())\n",
    "for user in users:\n",
    "    group_maps[user_group_map[user]].append(prec_at_N[user])\n",
    "for group in user_group_indices:\n",
    "    group_maps[group] = np.mean(group_maps[group])"
   ]
  },
  {
   "cell_type": "code",
   "execution_count": 24,
   "metadata": {},
   "outputs": [
    {
     "data": {
      "text/plain": [
       "{0: 0.06404255319148937,\n",
       " 1: 0.06404255319148937,\n",
       " 2: 0.06404255319148937,\n",
       " 3: 0.06404255319148937,\n",
       " 4: 0.06404255319148937,\n",
       " 5: 0.06404255319148937,\n",
       " 6: 0.06404255319148937,\n",
       " 7: 0.06404255319148937,\n",
       " 8: 0.06404255319148937,\n",
       " 9: 0.06404255319148937,\n",
       " 10: 0.06404255319148937,\n",
       " 11: 0.06404255319148937}"
      ]
     },
     "execution_count": 24,
     "metadata": {},
     "output_type": "execute_result"
    }
   ],
   "source": [
    "group_maps"
   ]
  }
 ],
 "metadata": {
  "kernelspec": {
   "display_name": "Python 3",
   "language": "python",
   "name": "python3"
  },
  "language_info": {
   "codemirror_mode": {
    "name": "ipython",
    "version": 3
   },
   "file_extension": ".py",
   "mimetype": "text/x-python",
   "name": "python",
   "nbconvert_exporter": "python",
   "pygments_lexer": "ipython3",
   "version": "3.9.4"
  }
 },
 "nbformat": 4,
 "nbformat_minor": 4
}
