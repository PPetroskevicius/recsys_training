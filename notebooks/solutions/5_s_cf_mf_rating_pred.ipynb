{
 "cells": [
  {
   "cell_type": "markdown",
   "metadata": {},
   "source": [
    "# Unit 5: Model-based Collaborative Filtering for **Rating** Prediction"
   ]
  },
  {
   "cell_type": "markdown",
   "metadata": {},
   "source": [
    "In this unit, we change the approach towards CF from neighborhood-based to **model-based**. This means that we create and train a model for describing users and items instead of using the k nearest neighbors. The model parameters are latent representations for users and items.\n",
    "\n",
    "Key to this idea is to compress the sparse interaction information of $R$ by finding two matrices $U$ and $V$ that by multiplication reconstruct $R$. The decomposition of $R$ into $U \\times V$ is called _matrix factorization_ and we refer to $U$ as user latent factor matrix and $V$ as item latent factor matrix. In addition to the dot product of user and item latent factors we also model user- and item-specific biases. This reflects the intuitive understanding of some users being more critical and some items being systematically rated better or worse, e.g. due to popularity. Among these biases, we also estimate the global mean $\\mu$ as the overall average rating.\n",
    "\n",
    "Compressing the sparse matrix into the product of two matrices means that the two remaining matrices are much smaller. This decrease in size is governed by the dimension of latent user/item vectors and symbolized by $d \\in \\mathbb{N}$. We choose $d$ to be much smaller than the number of items or users:\n",
    "\n",
    "\\begin{equation*}\n",
    "\\underset{m\\times n}{\\mathrm{R}} \\approx  \\underset{m\\times d}{U} \\times \\underset{d\\times n}{V^T} \\\\\n",
    "d \\ll \\min\\{m, n\\} \\\\\n",
    "\\hat{r}_{ij} = \\mu + b_i + b_j + u_i^{T} \\cdot v_j \\\\\n",
    "\\mu, b_i, b_j \\in \\mathbb{R}\n",
    "\\end{equation*}"
   ]
  },
  {
   "cell_type": "code",
   "execution_count": 1,
   "metadata": {},
   "outputs": [],
   "source": [
    "from collections import OrderedDict\n",
    "import itertools\n",
    "from typing import Dict, List, Tuple\n",
    "\n",
    "import matplotlib.pyplot as plt\n",
    "import numpy as np\n",
    "import pandas as pd"
   ]
  },
  {
   "cell_type": "code",
   "execution_count": 2,
   "metadata": {},
   "outputs": [],
   "source": [
    "from recsys_training.data import Dataset\n",
    "from recsys_training.evaluation import get_relevant_items"
   ]
  },
  {
   "cell_type": "code",
   "execution_count": 3,
   "metadata": {},
   "outputs": [],
   "source": [
    "ml100k_ratings_filepath = '../../data/raw/ml-100k/u.data'"
   ]
  },
  {
   "cell_type": "markdown",
   "metadata": {},
   "source": [
    "## Config"
   ]
  },
  {
   "cell_type": "code",
   "execution_count": 4,
   "metadata": {},
   "outputs": [],
   "source": [
    "seed = 42\n",
    "d = 100\n",
    "model_biases = False"
   ]
  },
  {
   "cell_type": "markdown",
   "metadata": {},
   "source": [
    "## Load Data"
   ]
  },
  {
   "cell_type": "code",
   "execution_count": 5,
   "metadata": {},
   "outputs": [],
   "source": [
    "data = Dataset(ml100k_ratings_filepath)\n",
    "data.rating_split(seed=seed)\n",
    "user_ratings = data.get_user_ratings()\n",
    "\n",
    "m = data.n_users\n",
    "n = data.n_items"
   ]
  },
  {
   "cell_type": "markdown",
   "metadata": {},
   "source": [
    "## Initialize the user and item latent factors, i.e. the model parameters"
   ]
  },
  {
   "cell_type": "markdown",
   "metadata": {},
   "source": [
    "As we want to learn the user/item latent factors from rating data, we first randomly initialize them from $\\mathbf{N}(\\mu=0, \\sigma=0.1)$"
   ]
  },
  {
   "cell_type": "code",
   "execution_count": 6,
   "metadata": {},
   "outputs": [],
   "source": [
    "np.random.seed(seed)\n",
    "\n",
    "user_factors = np.random.normal(0, .1, (m, d))\n",
    "item_factors = np.random.normal(0, .1, (n, d))\n",
    "\n",
    "if model_biases:\n",
    "    user_biases = np.random.normal(0, .1, (m, 1))\n",
    "    item_biases = np.random.normal(0, .1, (n, 1))\n",
    "else:\n",
    "    user_biases = None\n",
    "    item_biases = None"
   ]
  },
  {
   "cell_type": "code",
   "execution_count": 7,
   "metadata": {},
   "outputs": [],
   "source": [
    "ratings = data.train_ratings[['user', 'item', 'rating']].sample(frac=1, random_state=seed)"
   ]
  },
  {
   "cell_type": "code",
   "execution_count": 8,
   "metadata": {},
   "outputs": [
    {
     "data": {
      "text/plain": [
       "3.5318875"
      ]
     },
     "execution_count": 8,
     "metadata": {},
     "output_type": "execute_result"
    }
   ],
   "source": [
    "global_mean = ratings[\"rating\"].mean()\n",
    "global_mean"
   ]
  },
  {
   "cell_type": "markdown",
   "metadata": {},
   "source": [
    "$u_1^{T} \\cdot v_{223}$"
   ]
  },
  {
   "cell_type": "code",
   "execution_count": 9,
   "metadata": {},
   "outputs": [
    {
     "data": {
      "text/plain": [
       "0.0712292015812444"
      ]
     },
     "execution_count": 9,
     "metadata": {},
     "output_type": "execute_result"
    }
   ],
   "source": [
    "np.dot(user_factors[1], item_factors[233])"
   ]
  },
  {
   "cell_type": "code",
   "execution_count": 10,
   "metadata": {},
   "outputs": [],
   "source": [
    "model_variables = {\n",
    "    \"user_factors\": user_factors,\n",
    "    \"item_factors\": item_factors,\n",
    "    \"user_biases\": user_biases,\n",
    "    \"item_biases\": item_biases,\n",
    "    \"global_mean\": global_mean\n",
    "}"
   ]
  },
  {
   "cell_type": "markdown",
   "metadata": {},
   "source": [
    "![](../Parrot.png)\n",
    "\n",
    "**Task:** Implement a function `predict` that takes as input the latent factors for users, items and the biases to return the corresponding rating predictions"
   ]
  },
  {
   "cell_type": "code",
   "execution_count": 11,
   "metadata": {},
   "outputs": [],
   "source": [
    "def predict(model_variables: dict, user_idxs: np.array, item_idxs: np.array) -> np.array:\n",
    "    \"\"\"\n",
    "    return Bx1 array where B is the number of ratings to be predicted\n",
    "    \"\"\"\n",
    "    user_factors = model_variables[\"user_factors\"][user_idxs]\n",
    "    item_factors = model_variables[\"item_factors\"][item_idxs]\n",
    "    \n",
    "    r_hat = np.sum(user_factors*item_factors, axis=1)\n",
    "    \n",
    "    if model_variables[\"user_biases\"] is not None:\n",
    "        r_hat += model_variables[\"user_biases\"][user_idxs].flatten()\n",
    "    if model_variables[\"item_biases\"] is not None:\n",
    "        r_hat += model_variables[\"item_biases\"][item_idxs].flatten()\n",
    "    if model_variables[\"global_mean\"] is not None:\n",
    "        r_hat += global_mean\n",
    "    \n",
    "    return r_hat"
   ]
  },
  {
   "cell_type": "markdown",
   "metadata": {},
   "source": [
    "![](../Parrot.png)\n",
    "\n",
    "**Task:** Implement `compute_gradients` that receives a minibatch and computes the gradients for user and item latent vectors involved."
   ]
  },
  {
   "cell_type": "markdown",
   "metadata": {},
   "source": [
    "TODO: Add the gradient formulas"
   ]
  },
  {
   "cell_type": "code",
   "execution_count": 12,
   "metadata": {},
   "outputs": [],
   "source": [
    "def compute_gradients(error: np.array,\n",
    "                      user_idxs: np.array,\n",
    "                      item_idxs: np.array,\n",
    "                      model_variables: dict,\n",
    "                      reg_rate: float = 0.02) -> Dict[str, np.array]:\n",
    "    \n",
    "    user_factors = model_variables[\"user_factors\"][user_idxs]\n",
    "    item_factors = model_variables[\"item_factors\"][item_idxs]\n",
    "    \n",
    "    gradients = {}\n",
    "    gradients[\"user_factors\"] = error*item_factors - reg_rate*user_factors\n",
    "    gradients[\"item_factors\"] = error*user_factors - reg_rate*item_factors\n",
    "    \n",
    "    if model_variables[\"user_biases\"] is not None:\n",
    "        gradients[\"user_biases\"] = error - reg_rate*model_variables[\"user_biases\"][user_idxs]\n",
    "    \n",
    "    if model_variables[\"item_biases\"] is not None:\n",
    "        gradients[\"item_biases\"] = error - reg_rate*model_variables[\"item_biases\"][item_idxs]\n",
    "    \n",
    "    return gradients"
   ]
  },
  {
   "cell_type": "markdown",
   "metadata": {},
   "source": [
    "## Training"
   ]
  },
  {
   "cell_type": "markdown",
   "metadata": {},
   "source": [
    "We fit the model to the data with a technique called _minibatch gradient descent_.\n",
    "\n",
    "This means that for a number of epochs, i.e. full passes through the training data (ratings), we randomly choose a small subset of ratings (our minibatch) holding user, item and rating for each instance. Then, we compute the rating prediction as the dot product of user and item latent vectors (also called embeddings) and compute the mean squared error between predicted and true rating. We derive this error for user and item latent vectors to obtain our partial derivatives. We subtract part of the gradient from our latent vectors to move into the direction of minimizing error, i.e. deviation between true values and predictions.\n",
    "\n",
    "To keep track of the decreasing error, we compute the root mean squared error and print it."
   ]
  },
  {
   "cell_type": "code",
   "execution_count": 13,
   "metadata": {},
   "outputs": [],
   "source": [
    "epochs = 30\n",
    "batch_size = 64\n",
    "learning_rate = 0.005\n",
    "reg_rate = 0.05\n",
    "\n",
    "num_batches = int(np.ceil(len(ratings) / batch_size))\n",
    "train_rmse_trace = []\n",
    "test_rmse_trace = []"
   ]
  },
  {
   "cell_type": "code",
   "execution_count": 14,
   "metadata": {},
   "outputs": [
    {
     "name": "stdout",
     "output_type": "stream",
     "text": [
      "Epoch: 00 - Batch: 0000, Train RMSE: 1.242, Test RMSE: 1.135\n",
      "Epoch: 00 - Batch: 0300, Train RMSE: 1.266, Test RMSE: 1.135\n",
      "Epoch: 00 - Batch: 0600, Train RMSE: 1.055, Test RMSE: 1.135\n",
      "Epoch: 00 - Batch: 0900, Train RMSE: 1.308, Test RMSE: 1.135\n",
      "Epoch: 00 - Batch: 1200, Train RMSE: 1.055, Test RMSE: 1.134\n",
      "Epoch: 01 - Batch: 0000, Train RMSE: 1.228, Test RMSE: 1.134\n",
      "Epoch: 01 - Batch: 0300, Train RMSE: 1.257, Test RMSE: 1.134\n",
      "Epoch: 01 - Batch: 0600, Train RMSE: 1.047, Test RMSE: 1.134\n",
      "Epoch: 01 - Batch: 0900, Train RMSE: 1.295, Test RMSE: 1.134\n",
      "Epoch: 01 - Batch: 1200, Train RMSE: 1.046, Test RMSE: 1.134\n",
      "Epoch: 02 - Batch: 0000, Train RMSE: 1.216, Test RMSE: 1.134\n",
      "Epoch: 02 - Batch: 0300, Train RMSE: 1.249, Test RMSE: 1.133\n",
      "Epoch: 02 - Batch: 0600, Train RMSE: 1.039, Test RMSE: 1.133\n",
      "Epoch: 02 - Batch: 0900, Train RMSE: 1.283, Test RMSE: 1.133\n",
      "Epoch: 02 - Batch: 1200, Train RMSE: 1.037, Test RMSE: 1.133\n",
      "Epoch: 03 - Batch: 0000, Train RMSE: 1.206, Test RMSE: 1.132\n",
      "Epoch: 03 - Batch: 0300, Train RMSE: 1.240, Test RMSE: 1.132\n",
      "Epoch: 03 - Batch: 0600, Train RMSE: 1.032, Test RMSE: 1.132\n",
      "Epoch: 03 - Batch: 0900, Train RMSE: 1.271, Test RMSE: 1.131\n",
      "Epoch: 03 - Batch: 1200, Train RMSE: 1.029, Test RMSE: 1.131\n",
      "Epoch: 04 - Batch: 0000, Train RMSE: 1.195, Test RMSE: 1.131\n",
      "Epoch: 04 - Batch: 0300, Train RMSE: 1.230, Test RMSE: 1.130\n",
      "Epoch: 04 - Batch: 0600, Train RMSE: 1.024, Test RMSE: 1.130\n",
      "Epoch: 04 - Batch: 0900, Train RMSE: 1.259, Test RMSE: 1.129\n",
      "Epoch: 04 - Batch: 1200, Train RMSE: 1.020, Test RMSE: 1.128\n",
      "Epoch: 05 - Batch: 0000, Train RMSE: 1.184, Test RMSE: 1.128\n",
      "Epoch: 05 - Batch: 0300, Train RMSE: 1.220, Test RMSE: 1.127\n",
      "Epoch: 05 - Batch: 0600, Train RMSE: 1.015, Test RMSE: 1.126\n",
      "Epoch: 05 - Batch: 0900, Train RMSE: 1.246, Test RMSE: 1.125\n",
      "Epoch: 05 - Batch: 1200, Train RMSE: 1.010, Test RMSE: 1.124\n",
      "Epoch: 06 - Batch: 0000, Train RMSE: 1.172, Test RMSE: 1.124\n",
      "Epoch: 06 - Batch: 0300, Train RMSE: 1.207, Test RMSE: 1.122\n",
      "Epoch: 06 - Batch: 0600, Train RMSE: 1.004, Test RMSE: 1.121\n",
      "Epoch: 06 - Batch: 0900, Train RMSE: 1.230, Test RMSE: 1.119\n",
      "Epoch: 06 - Batch: 1200, Train RMSE: 0.998, Test RMSE: 1.117\n",
      "Epoch: 07 - Batch: 0000, Train RMSE: 1.157, Test RMSE: 1.117\n",
      "Epoch: 07 - Batch: 0300, Train RMSE: 1.191, Test RMSE: 1.115\n",
      "Epoch: 07 - Batch: 0600, Train RMSE: 0.991, Test RMSE: 1.113\n",
      "Epoch: 07 - Batch: 0900, Train RMSE: 1.210, Test RMSE: 1.110\n",
      "Epoch: 07 - Batch: 1200, Train RMSE: 0.983, Test RMSE: 1.108\n",
      "Epoch: 08 - Batch: 0000, Train RMSE: 1.140, Test RMSE: 1.107\n",
      "Epoch: 08 - Batch: 0300, Train RMSE: 1.171, Test RMSE: 1.105\n",
      "Epoch: 08 - Batch: 0600, Train RMSE: 0.974, Test RMSE: 1.102\n",
      "Epoch: 08 - Batch: 0900, Train RMSE: 1.186, Test RMSE: 1.099\n",
      "Epoch: 08 - Batch: 1200, Train RMSE: 0.964, Test RMSE: 1.096\n",
      "Epoch: 09 - Batch: 0000, Train RMSE: 1.119, Test RMSE: 1.095\n",
      "Epoch: 09 - Batch: 0300, Train RMSE: 1.147, Test RMSE: 1.092\n",
      "Epoch: 09 - Batch: 0600, Train RMSE: 0.956, Test RMSE: 1.089\n",
      "Epoch: 09 - Batch: 0900, Train RMSE: 1.159, Test RMSE: 1.085\n",
      "Epoch: 09 - Batch: 1200, Train RMSE: 0.942, Test RMSE: 1.082\n",
      "Epoch: 10 - Batch: 0000, Train RMSE: 1.096, Test RMSE: 1.081\n",
      "Epoch: 10 - Batch: 0300, Train RMSE: 1.120, Test RMSE: 1.077\n",
      "Epoch: 10 - Batch: 0600, Train RMSE: 0.937, Test RMSE: 1.074\n",
      "Epoch: 10 - Batch: 0900, Train RMSE: 1.129, Test RMSE: 1.070\n",
      "Epoch: 10 - Batch: 1200, Train RMSE: 0.918, Test RMSE: 1.067\n",
      "Epoch: 11 - Batch: 0000, Train RMSE: 1.071, Test RMSE: 1.066\n",
      "Epoch: 11 - Batch: 0300, Train RMSE: 1.089, Test RMSE: 1.062\n",
      "Epoch: 11 - Batch: 0600, Train RMSE: 0.918, Test RMSE: 1.059\n",
      "Epoch: 11 - Batch: 0900, Train RMSE: 1.097, Test RMSE: 1.055\n",
      "Epoch: 11 - Batch: 1200, Train RMSE: 0.894, Test RMSE: 1.052\n",
      "Epoch: 12 - Batch: 0000, Train RMSE: 1.046, Test RMSE: 1.051\n",
      "Epoch: 12 - Batch: 0300, Train RMSE: 1.058, Test RMSE: 1.048\n",
      "Epoch: 12 - Batch: 0600, Train RMSE: 0.902, Test RMSE: 1.045\n",
      "Epoch: 12 - Batch: 0900, Train RMSE: 1.064, Test RMSE: 1.042\n",
      "Epoch: 12 - Batch: 1200, Train RMSE: 0.870, Test RMSE: 1.039\n",
      "Epoch: 13 - Batch: 0000, Train RMSE: 1.020, Test RMSE: 1.038\n",
      "Epoch: 13 - Batch: 0300, Train RMSE: 1.027, Test RMSE: 1.035\n",
      "Epoch: 13 - Batch: 0600, Train RMSE: 0.886, Test RMSE: 1.032\n",
      "Epoch: 13 - Batch: 0900, Train RMSE: 1.031, Test RMSE: 1.029\n",
      "Epoch: 13 - Batch: 1200, Train RMSE: 0.848, Test RMSE: 1.026\n",
      "Epoch: 14 - Batch: 0000, Train RMSE: 0.993, Test RMSE: 1.026\n",
      "Epoch: 14 - Batch: 0300, Train RMSE: 0.997, Test RMSE: 1.023\n",
      "Epoch: 14 - Batch: 0600, Train RMSE: 0.872, Test RMSE: 1.020\n",
      "Epoch: 14 - Batch: 0900, Train RMSE: 0.999, Test RMSE: 1.018\n",
      "Epoch: 14 - Batch: 1200, Train RMSE: 0.828, Test RMSE: 1.016\n",
      "Epoch: 15 - Batch: 0000, Train RMSE: 0.967, Test RMSE: 1.015\n",
      "Epoch: 15 - Batch: 0300, Train RMSE: 0.968, Test RMSE: 1.013\n",
      "Epoch: 15 - Batch: 0600, Train RMSE: 0.859, Test RMSE: 1.010\n",
      "Epoch: 15 - Batch: 0900, Train RMSE: 0.969, Test RMSE: 1.009\n",
      "Epoch: 15 - Batch: 1200, Train RMSE: 0.811, Test RMSE: 1.006\n",
      "Epoch: 16 - Batch: 0000, Train RMSE: 0.942, Test RMSE: 1.006\n",
      "Epoch: 16 - Batch: 0300, Train RMSE: 0.942, Test RMSE: 1.004\n",
      "Epoch: 16 - Batch: 0600, Train RMSE: 0.846, Test RMSE: 1.002\n",
      "Epoch: 16 - Batch: 0900, Train RMSE: 0.940, Test RMSE: 1.000\n",
      "Epoch: 16 - Batch: 1200, Train RMSE: 0.795, Test RMSE: 0.998\n",
      "Epoch: 17 - Batch: 0000, Train RMSE: 0.918, Test RMSE: 0.998\n",
      "Epoch: 17 - Batch: 0300, Train RMSE: 0.917, Test RMSE: 0.996\n",
      "Epoch: 17 - Batch: 0600, Train RMSE: 0.834, Test RMSE: 0.994\n",
      "Epoch: 17 - Batch: 0900, Train RMSE: 0.913, Test RMSE: 0.993\n",
      "Epoch: 17 - Batch: 1200, Train RMSE: 0.782, Test RMSE: 0.991\n",
      "Epoch: 18 - Batch: 0000, Train RMSE: 0.895, Test RMSE: 0.991\n",
      "Epoch: 18 - Batch: 0300, Train RMSE: 0.895, Test RMSE: 0.990\n",
      "Epoch: 18 - Batch: 0600, Train RMSE: 0.822, Test RMSE: 0.988\n",
      "Epoch: 18 - Batch: 0900, Train RMSE: 0.889, Test RMSE: 0.987\n",
      "Epoch: 18 - Batch: 1200, Train RMSE: 0.770, Test RMSE: 0.985\n",
      "Epoch: 19 - Batch: 0000, Train RMSE: 0.873, Test RMSE: 0.985\n",
      "Epoch: 19 - Batch: 0300, Train RMSE: 0.874, Test RMSE: 0.984\n",
      "Epoch: 19 - Batch: 0600, Train RMSE: 0.810, Test RMSE: 0.983\n",
      "Epoch: 19 - Batch: 0900, Train RMSE: 0.866, Test RMSE: 0.982\n",
      "Epoch: 19 - Batch: 1200, Train RMSE: 0.759, Test RMSE: 0.980\n",
      "Epoch: 20 - Batch: 0000, Train RMSE: 0.852, Test RMSE: 0.980\n",
      "Epoch: 20 - Batch: 0300, Train RMSE: 0.855, Test RMSE: 0.979\n",
      "Epoch: 20 - Batch: 0600, Train RMSE: 0.799, Test RMSE: 0.978\n",
      "Epoch: 20 - Batch: 0900, Train RMSE: 0.845, Test RMSE: 0.977\n",
      "Epoch: 20 - Batch: 1200, Train RMSE: 0.748, Test RMSE: 0.976\n",
      "Epoch: 21 - Batch: 0000, Train RMSE: 0.833, Test RMSE: 0.976\n",
      "Epoch: 21 - Batch: 0300, Train RMSE: 0.837, Test RMSE: 0.975\n",
      "Epoch: 21 - Batch: 0600, Train RMSE: 0.788, Test RMSE: 0.974\n",
      "Epoch: 21 - Batch: 0900, Train RMSE: 0.825, Test RMSE: 0.973\n",
      "Epoch: 21 - Batch: 1200, Train RMSE: 0.739, Test RMSE: 0.972\n",
      "Epoch: 22 - Batch: 0000, Train RMSE: 0.814, Test RMSE: 0.972\n",
      "Epoch: 22 - Batch: 0300, Train RMSE: 0.820, Test RMSE: 0.971\n",
      "Epoch: 22 - Batch: 0600, Train RMSE: 0.778, Test RMSE: 0.971\n",
      "Epoch: 22 - Batch: 0900, Train RMSE: 0.806, Test RMSE: 0.970\n",
      "Epoch: 22 - Batch: 1200, Train RMSE: 0.730, Test RMSE: 0.969\n",
      "Epoch: 23 - Batch: 0000, Train RMSE: 0.797, Test RMSE: 0.969\n",
      "Epoch: 23 - Batch: 0300, Train RMSE: 0.804, Test RMSE: 0.968\n",
      "Epoch: 23 - Batch: 0600, Train RMSE: 0.767, Test RMSE: 0.968\n",
      "Epoch: 23 - Batch: 0900, Train RMSE: 0.789, Test RMSE: 0.967\n",
      "Epoch: 23 - Batch: 1200, Train RMSE: 0.721, Test RMSE: 0.966\n",
      "Epoch: 24 - Batch: 0000, Train RMSE: 0.780, Test RMSE: 0.966\n",
      "Epoch: 24 - Batch: 0300, Train RMSE: 0.789, Test RMSE: 0.966\n",
      "Epoch: 24 - Batch: 0600, Train RMSE: 0.757, Test RMSE: 0.965\n",
      "Epoch: 24 - Batch: 0900, Train RMSE: 0.773, Test RMSE: 0.965\n",
      "Epoch: 24 - Batch: 1200, Train RMSE: 0.713, Test RMSE: 0.964\n",
      "Epoch: 25 - Batch: 0000, Train RMSE: 0.764, Test RMSE: 0.964\n",
      "Epoch: 25 - Batch: 0300, Train RMSE: 0.775, Test RMSE: 0.963\n",
      "Epoch: 25 - Batch: 0600, Train RMSE: 0.746, Test RMSE: 0.963\n",
      "Epoch: 25 - Batch: 0900, Train RMSE: 0.758, Test RMSE: 0.963\n",
      "Epoch: 25 - Batch: 1200, Train RMSE: 0.705, Test RMSE: 0.962\n",
      "Epoch: 26 - Batch: 0000, Train RMSE: 0.748, Test RMSE: 0.962\n",
      "Epoch: 26 - Batch: 0300, Train RMSE: 0.762, Test RMSE: 0.961\n",
      "Epoch: 26 - Batch: 0600, Train RMSE: 0.736, Test RMSE: 0.961\n",
      "Epoch: 26 - Batch: 0900, Train RMSE: 0.744, Test RMSE: 0.961\n",
      "Epoch: 26 - Batch: 1200, Train RMSE: 0.697, Test RMSE: 0.960\n",
      "Epoch: 27 - Batch: 0000, Train RMSE: 0.734, Test RMSE: 0.960\n",
      "Epoch: 27 - Batch: 0300, Train RMSE: 0.749, Test RMSE: 0.960\n",
      "Epoch: 27 - Batch: 0600, Train RMSE: 0.726, Test RMSE: 0.959\n",
      "Epoch: 27 - Batch: 0900, Train RMSE: 0.731, Test RMSE: 0.959\n",
      "Epoch: 27 - Batch: 1200, Train RMSE: 0.689, Test RMSE: 0.959\n",
      "Epoch: 28 - Batch: 0000, Train RMSE: 0.720, Test RMSE: 0.959\n",
      "Epoch: 28 - Batch: 0300, Train RMSE: 0.737, Test RMSE: 0.958\n",
      "Epoch: 28 - Batch: 0600, Train RMSE: 0.717, Test RMSE: 0.958\n",
      "Epoch: 28 - Batch: 0900, Train RMSE: 0.719, Test RMSE: 0.958\n",
      "Epoch: 28 - Batch: 1200, Train RMSE: 0.682, Test RMSE: 0.957\n",
      "Epoch: 29 - Batch: 0000, Train RMSE: 0.706, Test RMSE: 0.957\n",
      "Epoch: 29 - Batch: 0300, Train RMSE: 0.725, Test RMSE: 0.957\n",
      "Epoch: 29 - Batch: 0600, Train RMSE: 0.707, Test RMSE: 0.957\n",
      "Epoch: 29 - Batch: 0900, Train RMSE: 0.707, Test RMSE: 0.957\n",
      "Epoch: 29 - Batch: 1200, Train RMSE: 0.674, Test RMSE: 0.956\n"
     ]
    }
   ],
   "source": [
    "for epoch in range(epochs):\n",
    "    for idx in range(num_batches):\n",
    "        \n",
    "        minibatch = ratings.iloc[idx * batch_size:(idx + 1) * batch_size]\n",
    "        \n",
    "        user_idxs = (minibatch[\"user\"].values - 1)\n",
    "        item_idxs = (minibatch[\"item\"].values - 1)\n",
    "        \n",
    "        # Generate Rating Predictions\n",
    "        preds = predict(model_variables, user_idxs, item_idxs)\n",
    "        \n",
    "        # Compute Error\n",
    "        error = (minibatch['rating'].values - preds).reshape(-1, 1)\n",
    "        \n",
    "        # Compute Gradients\n",
    "        gradients = compute_gradients(error,\n",
    "                                      user_idxs,\n",
    "                                      item_idxs,\n",
    "                                      model_variables,\n",
    "                                      reg_rate=reg_rate)\n",
    "        \n",
    "        # Perform Update Step, i.e. apply gradients to model variables\n",
    "        model_variables[\"user_factors\"][user_idxs] += learning_rate*gradients[\"user_factors\"]\n",
    "        model_variables[\"item_factors\"][item_idxs] += learning_rate*gradients[\"item_factors\"]\n",
    "        if model_biases:\n",
    "            model_variables[\"user_biases\"][user_idxs] += learning_rate*gradients[\"user_biases\"]\n",
    "            model_variables[\"item_biases\"][item_idxs] += learning_rate*gradients[\"item_biases\"]\n",
    "        \n",
    "        if not idx % 300:\n",
    "            train_rmse = np.sqrt(np.mean(error ** 2))\n",
    "            \n",
    "            user_idxs = (data.test_ratings['user'].values - 1)\n",
    "            item_idxs = (data.test_ratings['item'].values - 1)\n",
    "            \n",
    "            test_predictions = predict(model_variables, user_idxs, item_idxs)\n",
    "            \n",
    "            test_error = (data.test_ratings['rating'].values - test_predictions).reshape(-1, 1)\n",
    "            test_rmse = np.sqrt(np.mean(test_error ** 2))\n",
    "            \n",
    "            train_rmse_trace.append(train_rmse)\n",
    "            test_rmse_trace.append(test_rmse)\n",
    "            print(f\"Epoch: {epoch:02d} - Batch: {idx:04d}, Train RMSE: {train_rmse:.3f}, Test RMSE: {test_rmse:.3f}\")"
   ]
  },
  {
   "cell_type": "code",
   "execution_count": 16,
   "metadata": {},
   "outputs": [
    {
     "data": {
      "image/png": "[encoded data removed]",
      "text/plain": [
       "<Figure size 864x576 with 1 Axes>"
      ]
     },
     "metadata": {
      "needs_background": "light"
     },
     "output_type": "display_data"
    }
   ],
   "source": [
    "plt.figure(figsize=(12,8))\n",
    "plt.plot(range(len(train_rmse_trace)), train_rmse_trace, 'b--', label='Train')\n",
    "plt.plot(range(len(test_rmse_trace)), test_rmse_trace, 'g--', label='Test')\n",
    "plt.grid(True)\n",
    "plt.legend()\n",
    "plt.xlabel('Epoch')\n",
    "plt.ylabel('RMSE')\n",
    "plt.show()"
   ]
  },
  {
   "cell_type": "markdown",
   "metadata": {},
   "source": [
    "### Using the model for Recommendations"
   ]
  },
  {
   "cell_type": "markdown",
   "metadata": {},
   "source": [
    "We have now created a model to describe users and items in terms of latent vectors. We fitted them to reconstruct ratings by multiplication. So for obtaining recommendations we simply multiply user-item latent vectors we are interested in and see favorable combinations where predicted ratings, i.e. the products, are rather high.\n",
    "\n",
    "Thus, before writing the `get_recommendations` we first implement `get_prediction`."
   ]
  },
  {
   "cell_type": "markdown",
   "metadata": {},
   "source": [
    "![](../Parrot.png)\n",
    "\n",
    "**Task:** Implement `get_prediction` for predicting ratings for a user and all items or a set of provided items. Remember to remove _known positives_."
   ]
  },
  {
   "cell_type": "code",
   "execution_count": 17,
   "metadata": {},
   "outputs": [],
   "source": [
    "def get_prediction(user: int,\n",
    "                   user_ratings: Dict[int, Dict[int, float]] = user_ratings,\n",
    "                   items: np.array = None,\n",
    "                   data: object = data,\n",
    "                   model_variables: dict = model_variables,\n",
    "                   remove_known_pos: bool = True) -> Dict[int, Dict[str, float]]:\n",
    "    if items is None:\n",
    "        if remove_known_pos:\n",
    "            # Predict from unobserved items\n",
    "            known_items = np.array(list(user_ratings[user].keys()))\n",
    "            items = np.setdiff1d(data.items, known_items)\n",
    "        else:\n",
    "            items = np.array(data.items)\n",
    "    if type(items) == np.int64:\n",
    "        items = np.array([items])\n",
    "    \n",
    "    user_embed = user_factors[user - 1].reshape(1, -1)\n",
    "    item_embeds = item_factors[items - 1].reshape(len(items), -1)\n",
    "    \n",
    "    # use array-broadcasting\n",
    "    item_idxs = (items - 1)\n",
    "        \n",
    "    preds = predict(model_variables, np.array([user-1]), item_idxs)\n",
    "    \n",
    "    sorting = np.argsort(preds)[::-1]\n",
    "    preds = {item: {'pred': pred} for item, pred in\n",
    "             zip(items[sorting], preds[sorting])}\n",
    "\n",
    "    return preds"
   ]
  },
  {
   "cell_type": "code",
   "execution_count": 18,
   "metadata": {},
   "outputs": [],
   "source": [
    "item_predictions = get_prediction(1)"
   ]
  },
  {
   "cell_type": "code",
   "execution_count": 19,
   "metadata": {},
   "outputs": [
    {
     "data": {
      "text/plain": [
       "[(603, {'pred': 4.92860169452086}),\n",
       " (134, {'pred': 4.8832117136973965}),\n",
       " (318, {'pred': 4.867216771988945}),\n",
       " (483, {'pred': 4.852999603179681}),\n",
       " (427, {'pred': 4.827637881632582}),\n",
       " (285, {'pred': 4.820957251827735}),\n",
       " (408, {'pred': 4.800065799319599}),\n",
       " (98, {'pred': 4.796136000907328}),\n",
       " (480, {'pred': 4.76890977334754}),\n",
       " (357, {'pred': 4.715319105169412})]"
      ]
     },
     "execution_count": 19,
     "metadata": {},
     "output_type": "execute_result"
    }
   ],
   "source": [
    "list(item_predictions.items())[:10]"
   ]
  },
  {
   "cell_type": "code",
   "execution_count": 20,
   "metadata": {},
   "outputs": [],
   "source": [
    "def get_recommendations(user: int, N: int, remove_known_pos: bool = False) -> List[Tuple[int, Dict[str, float]]]:\n",
    "    predictions = get_prediction(user, remove_known_pos=remove_known_pos)\n",
    "    recommendations = []\n",
    "    for item, pred in predictions.items():\n",
    "        add_item = (item, pred)\n",
    "        recommendations.append(add_item)\n",
    "        if len(recommendations) == N:\n",
    "            break\n",
    "\n",
    "    return recommendations"
   ]
  },
  {
   "cell_type": "code",
   "execution_count": 21,
   "metadata": {},
   "outputs": [],
   "source": [
    "recommendations = get_recommendations(1, 10)"
   ]
  },
  {
   "cell_type": "code",
   "execution_count": 22,
   "metadata": {},
   "outputs": [
    {
     "data": {
      "text/plain": [
       "[(100, {'pred': 5.413696064992065}),\n",
       " (64, {'pred': 5.045089233426911}),\n",
       " (127, {'pred': 5.017655632231013}),\n",
       " (12, {'pred': 5.0018493860500985}),\n",
       " (48, {'pred': 4.954964235159555}),\n",
       " (114, {'pred': 4.935022251657901}),\n",
       " (603, {'pred': 4.92860169452086}),\n",
       " (169, {'pred': 4.900203543821842}),\n",
       " (134, {'pred': 4.8832117136973965}),\n",
       " (318, {'pred': 4.867216771988945})]"
      ]
     },
     "execution_count": 22,
     "metadata": {},
     "output_type": "execute_result"
    }
   ],
   "source": [
    "recommendations"
   ]
  },
  {
   "cell_type": "markdown",
   "metadata": {},
   "source": [
    "### Evaluation"
   ]
  },
  {
   "cell_type": "code",
   "execution_count": 23,
   "metadata": {},
   "outputs": [],
   "source": [
    "N = 10"
   ]
  },
  {
   "cell_type": "code",
   "execution_count": 24,
   "metadata": {},
   "outputs": [],
   "source": [
    "relevant_items = get_relevant_items(data.test_ratings)"
   ]
  },
  {
   "cell_type": "code",
   "execution_count": 25,
   "metadata": {},
   "outputs": [],
   "source": [
    "users = relevant_items.keys()\n",
    "prec_at_N = dict.fromkeys(data.users)\n",
    "\n",
    "for user in users:\n",
    "    recommendations = get_recommendations(user, N, remove_known_pos=True)\n",
    "    recommendations = [val[0] for val in recommendations]\n",
    "    hits = np.intersect1d(recommendations,\n",
    "                          relevant_items[user])\n",
    "    prec_at_N[user] = len(hits)/N"
   ]
  },
  {
   "cell_type": "code",
   "execution_count": 26,
   "metadata": {},
   "outputs": [
    {
     "data": {
      "text/plain": [
       "[313, 176, 272, 12, 178, 521, 83, 265, 515, 523]"
      ]
     },
     "execution_count": 26,
     "metadata": {},
     "output_type": "execute_result"
    }
   ],
   "source": [
    "recommendations"
   ]
  },
  {
   "cell_type": "code",
   "execution_count": 27,
   "metadata": {},
   "outputs": [
    {
     "data": {
      "text/plain": [
       "0.10287234042553192"
      ]
     },
     "execution_count": 27,
     "metadata": {},
     "output_type": "execute_result"
    }
   ],
   "source": [
    "np.mean([val for val in prec_at_N.values() if val is not None])"
   ]
  }
 ],
 "metadata": {
  "kernelspec": {
   "display_name": "Python 3",
   "language": "python",
   "name": "python3"
  },
  "language_info": {
   "codemirror_mode": {
    "name": "ipython",
    "version": 3
   },
   "file_extension": ".py",
   "mimetype": "text/x-python",
   "name": "python",
   "nbconvert_exporter": "python",
   "pygments_lexer": "ipython3",
   "version": "3.9.4"
  },
  "pycharm": {
   "stem_cell": {
    "cell_type": "raw",
    "metadata": {
     "collapsed": false
    },
    "source": []
   }
  }
 },
 "nbformat": 4,
 "nbformat_minor": 4
}
